{
 "cells": [
  {
   "cell_type": "code",
   "execution_count": 86,
   "id": "b92ea8fb-3026-47af-b2e2-a9deaeb83161",
   "metadata": {},
   "outputs": [],
   "source": [
    "import os"
   ]
  },
  {
   "cell_type": "code",
   "execution_count": 3,
   "id": "b86c2377-59e5-4a56-b8c9-6fd8b3bfab20",
   "metadata": {},
   "outputs": [
    {
     "name": "stdout",
     "output_type": "stream",
     "text": [
      "['DirEntry', 'EX_OK', 'F_OK', 'GenericAlias', 'Mapping', 'MutableMapping', 'O_APPEND', 'O_BINARY', 'O_CREAT', 'O_EXCL', 'O_NOINHERIT', 'O_RANDOM', 'O_RDONLY', 'O_RDWR', 'O_SEQUENTIAL', 'O_SHORT_LIVED', 'O_TEMPORARY', 'O_TEXT', 'O_TRUNC', 'O_WRONLY', 'P_DETACH', 'P_NOWAIT', 'P_NOWAITO', 'P_OVERLAY', 'P_WAIT', 'PathLike', 'R_OK', 'SEEK_CUR', 'SEEK_END', 'SEEK_SET', 'TMP_MAX', 'W_OK', 'X_OK', '_AddedDllDirectory', '_Environ', '__all__', '__builtins__', '__doc__', '__file__', '__loader__', '__name__', '__package__', '__spec__', '_check_methods', '_execvpe', '_exists', '_exit', '_fspath', '_get_exports_list', '_walk_symlinks_as_files', '_wrap_close', 'abc', 'abort', 'access', 'add_dll_directory', 'altsep', 'chdir', 'chmod', 'close', 'closerange', 'cpu_count', 'curdir', 'defpath', 'device_encoding', 'devnull', 'dup', 'dup2', 'environ', 'error', 'execl', 'execle', 'execlp', 'execlpe', 'execv', 'execve', 'execvp', 'execvpe', 'extsep', 'fdopen', 'fsdecode', 'fsencode', 'fspath', 'fstat', 'fsync', 'ftruncate', 'get_blocking', 'get_exec_path', 'get_handle_inheritable', 'get_inheritable', 'get_terminal_size', 'getcwd', 'getcwdb', 'getenv', 'getlogin', 'getpid', 'getppid', 'isatty', 'kill', 'linesep', 'link', 'listdir', 'listdrives', 'listmounts', 'listvolumes', 'lseek', 'lstat', 'makedirs', 'mkdir', 'name', 'open', 'pardir', 'path', 'pathsep', 'pipe', 'popen', 'putenv', 'read', 'readlink', 'remove', 'removedirs', 'rename', 'renames', 'replace', 'rmdir', 'scandir', 'sep', 'set_blocking', 'set_handle_inheritable', 'set_inheritable', 'spawnl', 'spawnle', 'spawnv', 'spawnve', 'st', 'startfile', 'stat', 'stat_result', 'statvfs_result', 'strerror', 'supports_bytes_environ', 'supports_dir_fd', 'supports_effective_ids', 'supports_fd', 'supports_follow_symlinks', 'symlink', 'sys', 'system', 'terminal_size', 'times', 'times_result', 'truncate', 'umask', 'uname_result', 'unlink', 'unsetenv', 'urandom', 'utime', 'waitpid', 'waitstatus_to_exitcode', 'walk', 'write']\n"
     ]
    }
   ],
   "source": [
    "print(dir(os))"
   ]
  },
  {
   "cell_type": "code",
   "execution_count": 25,
   "id": "f0358583-e42e-48fc-9d50-78f0bbd056da",
   "metadata": {},
   "outputs": [],
   "source": [
    "os.chdir(\"D:/Data_Science\")"
   ]
  },
  {
   "cell_type": "code",
   "execution_count": 32,
   "id": "fa7e3d7e-8f88-47dc-bbd2-fe5eb88a9933",
   "metadata": {},
   "outputs": [
    {
     "name": "stdout",
     "output_type": "stream",
     "text": [
      "D:\\Data_Science\n"
     ]
    }
   ],
   "source": [
    "print(os.getcwd())\n"
   ]
  },
  {
   "cell_type": "code",
   "execution_count": 31,
   "id": "2593ce3f-aa8c-4dec-a7a5-adc08f8865f9",
   "metadata": {},
   "outputs": [
    {
     "data": {
      "text/plain": [
       "['phase1', 'phase2']"
      ]
     },
     "execution_count": 31,
     "metadata": {},
     "output_type": "execute_result"
    }
   ],
   "source": [
    "os.listdir()\n"
   ]
  },
  {
   "cell_type": "code",
   "execution_count": 23,
   "id": "1aae863d-dd41-4cd6-9dcf-556c4efd3c65",
   "metadata": {},
   "outputs": [],
   "source": [
    "os.mkdir(\"phase2\")"
   ]
  },
  {
   "cell_type": "code",
   "execution_count": 21,
   "id": "778ce27a-f95d-4742-a6b5-745f7f3f87a3",
   "metadata": {},
   "outputs": [],
   "source": [
    "os.makedirs(\"phase3/task1\",exist_ok=False)"
   ]
  },
  {
   "cell_type": "code",
   "execution_count": 28,
   "id": "a2facaa4-22cd-4ab7-a142-03f2c513e09b",
   "metadata": {},
   "outputs": [],
   "source": [
    "os.rmdir(\"phase3/phase2\")"
   ]
  },
  {
   "cell_type": "code",
   "execution_count": 27,
   "id": "36e5b29f-41bb-4132-9f9f-ec11dbe41f1d",
   "metadata": {},
   "outputs": [],
   "source": [
    "os.removedirs(\"phase3/task1\")"
   ]
  },
  {
   "cell_type": "code",
   "execution_count": 30,
   "id": "e2334270-2256-4b2e-9061-0510c0771c55",
   "metadata": {},
   "outputs": [],
   "source": [
    "os.rename(\"phase3\",\"phase2\")"
   ]
  },
  {
   "cell_type": "code",
   "execution_count": 60,
   "id": "03aab178-8e12-4e54-bf08-eea9f96671d7",
   "metadata": {},
   "outputs": [
    {
     "data": {
      "text/plain": [
       "os.stat_result(st_mode=33206, st_ino=844424930132016, st_dev=15290943839407722522, st_nlink=1, st_uid=0, st_gid=0, st_size=7374, st_atime=1750498372, st_mtime=1750498372, st_ctime=1750494509)"
      ]
     },
     "execution_count": 60,
     "metadata": {},
     "output_type": "execute_result"
    }
   ],
   "source": [
    "os.stat(\"phase1\")\n",
    "os.stat(\"phase1/Untitled.ipynb\")"
   ]
  },
  {
   "cell_type": "code",
   "execution_count": 41,
   "id": "70d7da55-e078-4716-9451-7dc5267db259",
   "metadata": {},
   "outputs": [],
   "source": [
    "os.environ['name']=\"Tayyab Akhtar\"  #environment variable"
   ]
  },
  {
   "cell_type": "code",
   "execution_count": 44,
   "id": "4e254377-e9b3-49e1-bf6d-cf2c357ad119",
   "metadata": {},
   "outputs": [
    {
     "data": {
      "text/plain": [
       "'Tayyab Akhtar'"
      ]
     },
     "execution_count": 44,
     "metadata": {},
     "output_type": "execute_result"
    }
   ],
   "source": [
    "os.environ.get(\"name\")"
   ]
  },
  {
   "cell_type": "code",
   "execution_count": 57,
   "id": "2b7e4d00-5f78-4f64-b09b-772e207f7d8f",
   "metadata": {},
   "outputs": [
    {
     "name": "stdout",
     "output_type": "stream",
     "text": [
      "D:/Datascience/phase1/Untitled.ipynb\n"
     ]
    }
   ],
   "source": [
    "h=os.path.join(\"D:/\",\"Datascience/phase1/Untitled.ipynb\")\n",
    "print(h)"
   ]
  },
  {
   "cell_type": "code",
   "execution_count": 55,
   "id": "822df0fa-7876-4ca9-81f6-c4f9f1502e92",
   "metadata": {},
   "outputs": [
    {
     "data": {
      "text/plain": [
       "'Untitled'"
      ]
     },
     "execution_count": 55,
     "metadata": {},
     "output_type": "execute_result"
    }
   ],
   "source": [
    "os.path.basename(h)\n",
    "os.path.dirname(h)\n",
    "k=os.path.split(h)[1]\n",
    "os.path.splitext(k)[0]"
   ]
  },
  {
   "cell_type": "code",
   "execution_count": 61,
   "id": "bbe796f9-19d4-48f3-a686-7c97cab6242c",
   "metadata": {},
   "outputs": [
    {
     "data": {
      "text/plain": [
       "'D:\\\\Datascience\\\\phase1\\\\Untitled.ipynb'"
      ]
     },
     "execution_count": 61,
     "metadata": {},
     "output_type": "execute_result"
    }
   ],
   "source": [
    "os.path.normpath(h)   #\\ to /"
   ]
  },
  {
   "cell_type": "code",
   "execution_count": 69,
   "id": "df983bc5-a2cc-4c87-8184-ec7771da0289",
   "metadata": {},
   "outputs": [
    {
     "data": {
      "text/plain": [
       "True"
      ]
     },
     "execution_count": 69,
     "metadata": {},
     "output_type": "execute_result"
    }
   ],
   "source": [
    "h=h.replace(\"Datascience\",'Data_Science')\n",
    "os.path.exists(h)"
   ]
  },
  {
   "cell_type": "code",
   "execution_count": 74,
   "id": "b2f2ea90-d0e1-4deb-a013-7288273ddd55",
   "metadata": {},
   "outputs": [
    {
     "data": {
      "text/plain": [
       "False"
      ]
     },
     "execution_count": 74,
     "metadata": {},
     "output_type": "execute_result"
    }
   ],
   "source": [
    "os.path.isfile(h)\n",
    "os.path.isdir(h)"
   ]
  },
  {
   "cell_type": "code",
   "execution_count": null,
   "id": "26d8f328-9908-48b0-bbf7-9ff75881239c",
   "metadata": {},
   "outputs": [],
   "source": [
    "dir(os.path)\n",
    "dir(os.path.exists)\n",
    "dir(os.removedirs)"
   ]
  },
  {
   "cell_type": "code",
   "execution_count": 78,
   "id": "5736b1a1-9d02-48d2-916a-09dcd73f4aea",
   "metadata": {},
   "outputs": [
    {
     "name": "stdout",
     "output_type": "stream",
     "text": [
      "D:\\models      ['neck_detection', 'resnet50(3_fullchicken)', 'resnet50(3_neck)', 'yolo_detection']      []\n",
      "D:\\models\\neck_detection      []      ['best.pt']\n",
      "D:\\models\\resnet50(3_fullchicken)      []      ['resnet50_3class_best_full.pth']\n",
      "D:\\models\\resnet50(3_neck)      []      ['resnet50_3class_best_neck.pth']\n",
      "D:\\models\\yolo_detection      []      ['best .pt']\n"
     ]
    }
   ],
   "source": [
    "for dirpath,dirname,filenames in os.walk('D:/models'):\n",
    "    print(os.path.normpath(dirpath),\"    \",dirname,\"    \",filenames)"
   ]
  },
  {
   "cell_type": "code",
   "execution_count": 84,
   "id": "c3195ed5-15f0-445c-b826-6353a7bd70a2",
   "metadata": {},
   "outputs": [
    {
     "name": "stdout",
     "output_type": "stream",
     "text": [
      "00best\n",
      "00resn\n",
      "00resn\n",
      "00best\n"
     ]
    }
   ],
   "source": [
    "for dirpath,dirname,filenames in os.walk('D:/models'):\n",
    "    if filenames:\n",
    "        for f in filenames:\n",
    "            filename,extension=os.path.splitext(f)\n",
    "            print(filename.strip()[:4].zfill(6))\n",
    "            #os.rename(f,filename)"
   ]
  },
  {
   "cell_type": "code",
   "execution_count": 85,
   "id": "7fe5c780-1367-402c-9f12-e755795e38d5",
   "metadata": {},
   "outputs": [
    {
     "name": "stdout",
     "output_type": "stream",
     "text": [
      "DxDiag.txt\n",
      "github-recovery-codes.txt\n",
      "Tayyab_Akhtar_resume.docx\n"
     ]
    }
   ],
   "source": [
    "os.chdir('D:/files')\n",
    "for f in os.listdir():\n",
    "    print(f)"
   ]
  },
  {
   "cell_type": "code",
   "execution_count": 1,
   "id": "3e5a82b1-32da-4826-b6d0-d30039438eab",
   "metadata": {},
   "outputs": [
    {
     "data": {
      "text/plain": [
       "'C:\\\\Users\\\\HP\\\\anaconda3\\\\envs\\\\py310\\\\python.exe'"
      ]
     },
     "execution_count": 1,
     "metadata": {},
     "output_type": "execute_result"
    }
   ],
   "source": [
    "import sys\n",
    "\n",
    "sys.executable\n",
    "\n"
   ]
  },
  {
   "cell_type": "code",
   "execution_count": 2,
   "id": "c9caf0f5-ddb7-4bba-b981-979c5cd28167",
   "metadata": {},
   "outputs": [
    {
     "data": {
      "text/plain": [
       "'3.10.18 | packaged by Anaconda, Inc. | (main, Jun  5 2025, 13:08:55) [MSC v.1929 64 bit (AMD64)]'"
      ]
     },
     "execution_count": 2,
     "metadata": {},
     "output_type": "execute_result"
    }
   ],
   "source": [
    "sys.version\n"
   ]
  },
  {
   "cell_type": "code",
   "execution_count": null,
   "id": "81643340-0799-4221-b461-81800801bacf",
   "metadata": {},
   "outputs": [],
   "source": [
    "sys.exit()#stop execution of program cleanly\n",
    "print(sys.argv)\n",
    "# Useful to pass parameters when running Python scripts from terminal:\n",
    "#python script.py arg1 arg2"
   ]
  }
 ],
 "metadata": {
  "kernelspec": {
   "display_name": "Python (py310)",
   "language": "python",
   "name": "py310"
  },
  "language_info": {
   "codemirror_mode": {
    "name": "ipython",
    "version": 3
   },
   "file_extension": ".py",
   "mimetype": "text/x-python",
   "name": "python",
   "nbconvert_exporter": "python",
   "pygments_lexer": "ipython3",
   "version": "3.10.18"
  }
 },
 "nbformat": 4,
 "nbformat_minor": 5
}
