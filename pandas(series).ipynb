{
 "cells": [
  {
   "cell_type": "code",
   "execution_count": 1,
   "id": "a9c8088b-0dd0-453d-8c8c-6e6bebbc7f4c",
   "metadata": {},
   "outputs": [],
   "source": [
    "import pandas as pd"
   ]
  },
  {
   "cell_type": "code",
   "execution_count": 2,
   "id": "ffa8c1b4-043f-4672-9e8f-5f938c592c65",
   "metadata": {},
   "outputs": [
    {
     "data": {
      "text/plain": [
       "0      pakistan\n",
       "1         India\n",
       "2    Bangladesh\n",
       "Name: Country, dtype: object"
      ]
     },
     "execution_count": 2,
     "metadata": {},
     "output_type": "execute_result"
    }
   ],
   "source": [
    "list=['pakistan','India','Bangladesh']\n",
    "\n",
    "h=pd.Series(list,name='Country')#You cannot define column name\n",
    "h"
   ]
  },
  {
   "cell_type": "code",
   "execution_count": 3,
   "id": "b44bee4b-0a08-4ff7-8ce8-686cf602d97a",
   "metadata": {},
   "outputs": [
    {
     "data": {
      "text/plain": [
       "eng        90\n",
       "math       87\n",
       "science    65\n",
       "dtype: int64"
      ]
     },
     "execution_count": 3,
     "metadata": {},
     "output_type": "execute_result"
    }
   ],
   "source": [
    "marks=[90,87,65]\n",
    "subject=['eng','math','science']\n",
    "k=pd.Series(marks,index=subject)\n",
    "k"
   ]
  },
  {
   "cell_type": "code",
   "execution_count": 6,
   "id": "46d20d47-4212-49c0-9055-18a0ebdeaac8",
   "metadata": {},
   "outputs": [
    {
     "data": {
      "text/html": [
       "<div>\n",
       "<style scoped>\n",
       "    .dataframe tbody tr th:only-of-type {\n",
       "        vertical-align: middle;\n",
       "    }\n",
       "\n",
       "    .dataframe tbody tr th {\n",
       "        vertical-align: top;\n",
       "    }\n",
       "\n",
       "    .dataframe thead th {\n",
       "        text-align: right;\n",
       "    }\n",
       "</style>\n",
       "<table border=\"1\" class=\"dataframe\">\n",
       "  <thead>\n",
       "    <tr style=\"text-align: right;\">\n",
       "      <th></th>\n",
       "      <th>index</th>\n",
       "      <th>0</th>\n",
       "    </tr>\n",
       "  </thead>\n",
       "  <tbody>\n",
       "    <tr>\n",
       "      <th>0</th>\n",
       "      <td>eng</td>\n",
       "      <td>90</td>\n",
       "    </tr>\n",
       "    <tr>\n",
       "      <th>1</th>\n",
       "      <td>math</td>\n",
       "      <td>87</td>\n",
       "    </tr>\n",
       "    <tr>\n",
       "      <th>2</th>\n",
       "      <td>science</td>\n",
       "      <td>65</td>\n",
       "    </tr>\n",
       "  </tbody>\n",
       "</table>\n",
       "</div>"
      ],
      "text/plain": [
       "     index   0\n",
       "0      eng  90\n",
       "1     math  87\n",
       "2  science  65"
      ]
     },
     "execution_count": 6,
     "metadata": {},
     "output_type": "execute_result"
    }
   ],
   "source": [
    "\n",
    "k.reset_index()"
   ]
  },
  {
   "cell_type": "code",
   "execution_count": 10,
   "id": "43ca0ffc-e7a9-4b1a-b6e0-7a72f839b37d",
   "metadata": {},
   "outputs": [
    {
     "data": {
      "text/plain": [
       "eng        90\n",
       "math       87\n",
       "science    65\n",
       "dtype: int64"
      ]
     },
     "execution_count": 10,
     "metadata": {},
     "output_type": "execute_result"
    }
   ],
   "source": [
    "sr1={'eng':90,'math':87,'science':65}\n",
    "k1=pd.Series(sr1)\n",
    "k1"
   ]
  },
  {
   "cell_type": "code",
   "execution_count": 15,
   "id": "b291ba52-6971-4445-a42a-00878ee3aeb3",
   "metadata": {},
   "outputs": [],
   "source": [
    "k1.size#no of items\n",
    "k1.dtype\n",
    "h.dtype# object type\n",
    "h.name#name =country\n",
    "k1.name#name not defined so empty"
   ]
  },
  {
   "cell_type": "code",
   "execution_count": 18,
   "id": "fb2202c4-1be5-4dd0-bbd9-43944d0d0d1a",
   "metadata": {},
   "outputs": [
    {
     "data": {
      "text/plain": [
       "array([90, 87, 65], dtype=int64)"
      ]
     },
     "execution_count": 18,
     "metadata": {},
     "output_type": "execute_result"
    }
   ],
   "source": [
    "k1.is_unique\n",
    "k1.index #give index values\n",
    "k1.values\n"
   ]
  },
  {
   "cell_type": "code",
   "execution_count": 27,
   "id": "c6ada636-9289-4fec-b156-b6ccd216ffbc",
   "metadata": {},
   "outputs": [
    {
     "data": {
      "text/html": [
       "<div>\n",
       "<style scoped>\n",
       "    .dataframe tbody tr th:only-of-type {\n",
       "        vertical-align: middle;\n",
       "    }\n",
       "\n",
       "    .dataframe tbody tr th {\n",
       "        vertical-align: top;\n",
       "    }\n",
       "\n",
       "    .dataframe thead th {\n",
       "        text-align: right;\n",
       "    }\n",
       "</style>\n",
       "<table border=\"1\" class=\"dataframe\">\n",
       "  <thead>\n",
       "    <tr style=\"text-align: right;\">\n",
       "      <th></th>\n",
       "      <th>show_id</th>\n",
       "      <th>type</th>\n",
       "      <th>title</th>\n",
       "      <th>director</th>\n",
       "      <th>cast</th>\n",
       "      <th>country</th>\n",
       "      <th>date_added</th>\n",
       "      <th>release_year</th>\n",
       "      <th>rating</th>\n",
       "      <th>duration</th>\n",
       "      <th>listed_in</th>\n",
       "      <th>description</th>\n",
       "    </tr>\n",
       "  </thead>\n",
       "  <tbody>\n",
       "    <tr>\n",
       "      <th>6517</th>\n",
       "      <td>s6518</td>\n",
       "      <td>Movie</td>\n",
       "      <td>Colours of Passion</td>\n",
       "      <td>Ketan Mehta</td>\n",
       "      <td>Randeep Hooda, Nandana Sen, Jim Boeven, Paresh...</td>\n",
       "      <td>India</td>\n",
       "      <td>May 25, 2018</td>\n",
       "      <td>2008</td>\n",
       "      <td>TV-14</td>\n",
       "      <td>114 min</td>\n",
       "      <td>Dramas, International Movies</td>\n",
       "      <td>Seeking inspiration, a young 19th-century pain...</td>\n",
       "    </tr>\n",
       "    <tr>\n",
       "      <th>889</th>\n",
       "      <td>s890</td>\n",
       "      <td>Movie</td>\n",
       "      <td>The Woman in the Window</td>\n",
       "      <td>Joe Wright</td>\n",
       "      <td>Amy Adams, Gary Oldman, Anthony Mackie, Fred H...</td>\n",
       "      <td>United States</td>\n",
       "      <td>May 14, 2021</td>\n",
       "      <td>2021</td>\n",
       "      <td>R</td>\n",
       "      <td>102 min</td>\n",
       "      <td>Dramas, Thrillers</td>\n",
       "      <td>Confined to her home by agoraphobia, a psychol...</td>\n",
       "    </tr>\n",
       "    <tr>\n",
       "      <th>7972</th>\n",
       "      <td>s7973</td>\n",
       "      <td>Movie</td>\n",
       "      <td>Secrets of Henry VIII's Palace: Hampton Court</td>\n",
       "      <td>Sam Taplin</td>\n",
       "      <td>Samuel West</td>\n",
       "      <td>United States</td>\n",
       "      <td>February 22, 2017</td>\n",
       "      <td>2013</td>\n",
       "      <td>TV-PG</td>\n",
       "      <td>54 min</td>\n",
       "      <td>Documentaries, International Movies</td>\n",
       "      <td>The history of this grand 500-year-old palace ...</td>\n",
       "    </tr>\n",
       "  </tbody>\n",
       "</table>\n",
       "</div>"
      ],
      "text/plain": [
       "     show_id   type                                          title  \\\n",
       "6517   s6518  Movie                             Colours of Passion   \n",
       "889     s890  Movie                        The Woman in the Window   \n",
       "7972   s7973  Movie  Secrets of Henry VIII's Palace: Hampton Court   \n",
       "\n",
       "         director                                               cast  \\\n",
       "6517  Ketan Mehta  Randeep Hooda, Nandana Sen, Jim Boeven, Paresh...   \n",
       "889    Joe Wright  Amy Adams, Gary Oldman, Anthony Mackie, Fred H...   \n",
       "7972   Sam Taplin                                        Samuel West   \n",
       "\n",
       "            country         date_added  release_year rating duration  \\\n",
       "6517          India       May 25, 2018          2008  TV-14  114 min   \n",
       "889   United States       May 14, 2021          2021      R  102 min   \n",
       "7972  United States  February 22, 2017          2013  TV-PG   54 min   \n",
       "\n",
       "                                listed_in  \\\n",
       "6517         Dramas, International Movies   \n",
       "889                     Dramas, Thrillers   \n",
       "7972  Documentaries, International Movies   \n",
       "\n",
       "                                            description  \n",
       "6517  Seeking inspiration, a young 19th-century pain...  \n",
       "889   Confined to her home by agoraphobia, a psychol...  \n",
       "7972  The history of this grand 500-year-old palace ...  "
      ]
     },
     "execution_count": 27,
     "metadata": {},
     "output_type": "execute_result"
    }
   ],
   "source": [
    "df=pd.read_csv(r\"D:\\Data_Science\\datasets\\netflix\\netflix_titles.csv\")\n",
    "df.head(1)\n",
    "df.tail(1)\n",
    "df.sample(3)#pick random samples\n",
    "df.sample(3)#pick random samples"
   ]
  },
  {
   "cell_type": "code",
   "execution_count": 28,
   "id": "c296434a-e2ae-4597-9cdf-010bb7e064b5",
   "metadata": {},
   "outputs": [
    {
     "data": {
      "text/plain": [
       "True"
      ]
     },
     "execution_count": 28,
     "metadata": {},
     "output_type": "execute_result"
    }
   ],
   "source": [
    "df.show_id.is_unique"
   ]
  },
  {
   "cell_type": "code",
   "execution_count": 37,
   "id": "25bdd9ea-65b5-4619-abae-c7313f56cadb",
   "metadata": {},
   "outputs": [
    {
     "data": {
      "text/plain": [
       "show_id\n",
       "s8803      David Fincher\n",
       "s8804                NaN\n",
       "s8805    Ruben Fleischer\n",
       "s8806       Peter Hewitt\n",
       "s8807        Mozez Singh\n",
       "dtype: object"
      ]
     },
     "execution_count": 37,
     "metadata": {},
     "output_type": "execute_result"
    }
   ],
   "source": [
    "s1 = pd.Series(df.director.values, index=df.show_id)\n",
    "s1.tail()"
   ]
  },
  {
   "cell_type": "code",
   "execution_count": null,
   "id": "d1a6f2eb-8d36-474b-b6a7-be861f513257",
   "metadata": {},
   "outputs": [],
   "source": [
    "s1=pd.Series(df.director,index=df.show_id) #it will not work beacause by default director does not have showid \n",
    "s1.head()    "
   ]
  },
  {
   "cell_type": "code",
   "execution_count": 46,
   "id": "2d8d83aa-bc98-43d4-ad54-63b1f107222d",
   "metadata": {},
   "outputs": [
    {
     "data": {
      "text/plain": [
       "show_id\n",
       "s999                                 NaN\n",
       "s998                                 NaN\n",
       "s997                     Takashi Shimizu\n",
       "s996    Yılmaz Erdoğan, Ömer Faruk Sorak\n",
       "s995                        Kayode Kasum\n",
       "dtype: object"
      ]
     },
     "execution_count": 46,
     "metadata": {},
     "output_type": "execute_result"
    }
   ],
   "source": [
    "s1.value_counts\n",
    "s1.sort_values(ascending=False,inplace=True)\n",
    "s1.sort_index(ascending=False,inplace=True)\n",
    "s1.head()"
   ]
  },
  {
   "cell_type": "code",
   "execution_count": 49,
   "id": "1f8d8e10-828f-4257-aa13-0e61868e5323",
   "metadata": {},
   "outputs": [
    {
     "name": "stdout",
     "output_type": "stream",
     "text": [
      "6173    8807\n"
     ]
    }
   ],
   "source": [
    "s1.count()  #does not count null values\n",
    "s1.size\n",
    "print(s1.count(),\"  \",s1.size)"
   ]
  },
  {
   "cell_type": "code",
   "execution_count": 50,
   "id": "551258ed-90f3-45e3-9dea-a0b28f98242f",
   "metadata": {},
   "outputs": [
    {
     "data": {
      "text/plain": [
       "<bound method NDFrame.describe of show_id\n",
       "s999                                  NaN\n",
       "s998                                  NaN\n",
       "s997                      Takashi Shimizu\n",
       "s996     Yılmaz Erdoğan, Ömer Faruk Sorak\n",
       "s995                         Kayode Kasum\n",
       "                       ...               \n",
       "s1001                     Ahishor Solomon\n",
       "s1000                           Joe Penna\n",
       "s100                                  NaN\n",
       "s10                        Theodore Melfi\n",
       "s1                        Kirsten Johnson\n",
       "Length: 8807, dtype: object>"
      ]
     },
     "execution_count": 50,
     "metadata": {},
     "output_type": "execute_result"
    }
   ],
   "source": [
    "s1.describe"
   ]
  },
  {
   "cell_type": "code",
   "execution_count": 74,
   "id": "c953ec6a-a5f2-45ea-825b-df00f58be5e7",
   "metadata": {},
   "outputs": [],
   "source": [
    "sf1=pd.read_csv(r\"D:\\Data_Science\\datasets\\netflix\\netflix_titles.csv\",usecols=['show_id','duration'],index_col=\"show_id\")"
   ]
  },
  {
   "cell_type": "code",
   "execution_count": 56,
   "id": "fd1e194a-7085-44ef-a8f9-a2da47b02914",
   "metadata": {},
   "outputs": [
    {
     "data": {
      "text/html": [
       "<div>\n",
       "<style scoped>\n",
       "    .dataframe tbody tr th:only-of-type {\n",
       "        vertical-align: middle;\n",
       "    }\n",
       "\n",
       "    .dataframe tbody tr th {\n",
       "        vertical-align: top;\n",
       "    }\n",
       "\n",
       "    .dataframe thead th {\n",
       "        text-align: right;\n",
       "    }\n",
       "</style>\n",
       "<table border=\"1\" class=\"dataframe\">\n",
       "  <thead>\n",
       "    <tr style=\"text-align: right;\">\n",
       "      <th></th>\n",
       "      <th>duration</th>\n",
       "    </tr>\n",
       "    <tr>\n",
       "      <th>show_id</th>\n",
       "      <th></th>\n",
       "    </tr>\n",
       "  </thead>\n",
       "  <tbody>\n",
       "    <tr>\n",
       "      <th>s1</th>\n",
       "      <td>90 min</td>\n",
       "    </tr>\n",
       "    <tr>\n",
       "      <th>s2</th>\n",
       "      <td>2 Seasons</td>\n",
       "    </tr>\n",
       "    <tr>\n",
       "      <th>s3</th>\n",
       "      <td>1 Season</td>\n",
       "    </tr>\n",
       "    <tr>\n",
       "      <th>s4</th>\n",
       "      <td>1 Season</td>\n",
       "    </tr>\n",
       "    <tr>\n",
       "      <th>s5</th>\n",
       "      <td>2 Seasons</td>\n",
       "    </tr>\n",
       "  </tbody>\n",
       "</table>\n",
       "</div>"
      ],
      "text/plain": [
       "          duration\n",
       "show_id           \n",
       "s1          90 min\n",
       "s2       2 Seasons\n",
       "s3        1 Season\n",
       "s4        1 Season\n",
       "s5       2 Seasons"
      ]
     },
     "execution_count": 56,
     "metadata": {},
     "output_type": "execute_result"
    }
   ],
   "source": [
    "sf1.head()"
   ]
  },
  {
   "cell_type": "code",
   "execution_count": 81,
   "id": "f4f89533-6d88-4abb-8360-360001b11fce",
   "metadata": {},
   "outputs": [
    {
     "data": {
      "text/html": [
       "<div>\n",
       "<style scoped>\n",
       "    .dataframe tbody tr th:only-of-type {\n",
       "        vertical-align: middle;\n",
       "    }\n",
       "\n",
       "    .dataframe tbody tr th {\n",
       "        vertical-align: top;\n",
       "    }\n",
       "\n",
       "    .dataframe thead th {\n",
       "        text-align: right;\n",
       "    }\n",
       "</style>\n",
       "<table border=\"1\" class=\"dataframe\">\n",
       "  <thead>\n",
       "    <tr style=\"text-align: right;\">\n",
       "      <th></th>\n",
       "      <th>target_runs</th>\n",
       "    </tr>\n",
       "    <tr>\n",
       "      <th>id</th>\n",
       "      <th></th>\n",
       "    </tr>\n",
       "  </thead>\n",
       "  <tbody>\n",
       "    <tr>\n",
       "      <th>335982</th>\n",
       "      <td>223.0</td>\n",
       "    </tr>\n",
       "    <tr>\n",
       "      <th>335983</th>\n",
       "      <td>241.0</td>\n",
       "    </tr>\n",
       "    <tr>\n",
       "      <th>335984</th>\n",
       "      <td>130.0</td>\n",
       "    </tr>\n",
       "    <tr>\n",
       "      <th>335985</th>\n",
       "      <td>166.0</td>\n",
       "    </tr>\n",
       "    <tr>\n",
       "      <th>335986</th>\n",
       "      <td>111.0</td>\n",
       "    </tr>\n",
       "  </tbody>\n",
       "</table>\n",
       "</div>"
      ],
      "text/plain": [
       "        target_runs\n",
       "id                 \n",
       "335982        223.0\n",
       "335983        241.0\n",
       "335984        130.0\n",
       "335985        166.0\n",
       "335986        111.0"
      ]
     },
     "execution_count": 81,
     "metadata": {},
     "output_type": "execute_result"
    }
   ],
   "source": [
    "sf2=pd.read_csv(r\"D:\\Data_Science\\datasets\\IPL\\matches.csv\",usecols=['id','target_runs'],index_col='id')\n",
    "sf2.head()"
   ]
  },
  {
   "cell_type": "code",
   "execution_count": 61,
   "id": "72adb271-5b42-4417-b18b-a02018ed4928",
   "metadata": {},
   "outputs": [
    {
     "data": {
      "text/html": [
       "<div>\n",
       "<style scoped>\n",
       "    .dataframe tbody tr th:only-of-type {\n",
       "        vertical-align: middle;\n",
       "    }\n",
       "\n",
       "    .dataframe tbody tr th {\n",
       "        vertical-align: top;\n",
       "    }\n",
       "\n",
       "    .dataframe thead th {\n",
       "        text-align: right;\n",
       "    }\n",
       "</style>\n",
       "<table border=\"1\" class=\"dataframe\">\n",
       "  <thead>\n",
       "    <tr style=\"text-align: right;\">\n",
       "      <th></th>\n",
       "      <th>target_runs</th>\n",
       "    </tr>\n",
       "  </thead>\n",
       "  <tbody>\n",
       "    <tr>\n",
       "      <th>count</th>\n",
       "      <td>1092.000000</td>\n",
       "    </tr>\n",
       "    <tr>\n",
       "      <th>mean</th>\n",
       "      <td>165.684066</td>\n",
       "    </tr>\n",
       "    <tr>\n",
       "      <th>std</th>\n",
       "      <td>33.427048</td>\n",
       "    </tr>\n",
       "    <tr>\n",
       "      <th>min</th>\n",
       "      <td>43.000000</td>\n",
       "    </tr>\n",
       "    <tr>\n",
       "      <th>25%</th>\n",
       "      <td>146.000000</td>\n",
       "    </tr>\n",
       "    <tr>\n",
       "      <th>50%</th>\n",
       "      <td>166.000000</td>\n",
       "    </tr>\n",
       "    <tr>\n",
       "      <th>75%</th>\n",
       "      <td>187.000000</td>\n",
       "    </tr>\n",
       "    <tr>\n",
       "      <th>max</th>\n",
       "      <td>288.000000</td>\n",
       "    </tr>\n",
       "  </tbody>\n",
       "</table>\n",
       "</div>"
      ],
      "text/plain": [
       "       target_runs\n",
       "count  1092.000000\n",
       "mean    165.684066\n",
       "std      33.427048\n",
       "min      43.000000\n",
       "25%     146.000000\n",
       "50%     166.000000\n",
       "75%     187.000000\n",
       "max     288.000000"
      ]
     },
     "execution_count": 61,
     "metadata": {},
     "output_type": "execute_result"
    }
   ],
   "source": [
    "sf2.describe()"
   ]
  },
  {
   "cell_type": "code",
   "execution_count": 62,
   "id": "66aa25ab-c8b9-4c67-ab1a-3d902be592bf",
   "metadata": {},
   "outputs": [
    {
     "data": {
      "text/plain": [
       "target_runs    180927.0\n",
       "dtype: float64"
      ]
     },
     "execution_count": 62,
     "metadata": {},
     "output_type": "execute_result"
    }
   ],
   "source": [
    "sf2.sum()  #.product() .median .mode .var"
   ]
  },
  {
   "cell_type": "code",
   "execution_count": 86,
   "id": "34e50b65-6215-4efa-9bb4-5229a6e82087",
   "metadata": {},
   "outputs": [
    {
     "data": {
      "text/plain": [
       "target_runs    255.0\n",
       "Name: 335983, dtype: float64"
      ]
     },
     "execution_count": 86,
     "metadata": {},
     "output_type": "execute_result"
    }
   ],
   "source": [
    "sf2.index\n",
    "sf2.iloc[1] #if you have custom indexex you cannot access in that way (sf2[] : donot use this technique)\n",
    "sf2.iloc[1:10:2]\n",
    "sf2.loc[335983]# custom labels name access by this "
   ]
  },
  {
   "cell_type": "code",
   "execution_count": 83,
   "id": "1c2167af-5f20-4359-a0e6-0384b564d3b4",
   "metadata": {},
   "outputs": [],
   "source": [
    "sf2.loc[335983]=255  #use for edit if not exist iit will create new index "
   ]
  },
  {
   "cell_type": "code",
   "execution_count": 85,
   "id": "26c44e71-5eef-4011-9ddb-01082fb3ae29",
   "metadata": {},
   "outputs": [
    {
     "data": {
      "text/html": [
       "<div>\n",
       "<style scoped>\n",
       "    .dataframe tbody tr th:only-of-type {\n",
       "        vertical-align: middle;\n",
       "    }\n",
       "\n",
       "    .dataframe tbody tr th {\n",
       "        vertical-align: top;\n",
       "    }\n",
       "\n",
       "    .dataframe thead th {\n",
       "        text-align: right;\n",
       "    }\n",
       "</style>\n",
       "<table border=\"1\" class=\"dataframe\">\n",
       "  <thead>\n",
       "    <tr style=\"text-align: right;\">\n",
       "      <th></th>\n",
       "      <th>target_runs</th>\n",
       "    </tr>\n",
       "    <tr>\n",
       "      <th>id</th>\n",
       "      <th></th>\n",
       "    </tr>\n",
       "  </thead>\n",
       "  <tbody>\n",
       "    <tr>\n",
       "      <th>1304087</th>\n",
       "      <td>147.0</td>\n",
       "    </tr>\n",
       "    <tr>\n",
       "      <th>501228</th>\n",
       "      <td>142.0</td>\n",
       "    </tr>\n",
       "    <tr>\n",
       "      <th>1312199</th>\n",
       "      <td>158.0</td>\n",
       "    </tr>\n",
       "    <tr>\n",
       "      <th>829723</th>\n",
       "      <td>166.0</td>\n",
       "    </tr>\n",
       "    <tr>\n",
       "      <th>1136595</th>\n",
       "      <td>128.0</td>\n",
       "    </tr>\n",
       "    <tr>\n",
       "      <th>548357</th>\n",
       "      <td>154.0</td>\n",
       "    </tr>\n",
       "    <tr>\n",
       "      <th>336034</th>\n",
       "      <td>157.0</td>\n",
       "    </tr>\n",
       "    <tr>\n",
       "      <th>336011</th>\n",
       "      <td>141.0</td>\n",
       "    </tr>\n",
       "    <tr>\n",
       "      <th>1254071</th>\n",
       "      <td>121.0</td>\n",
       "    </tr>\n",
       "    <tr>\n",
       "      <th>598033</th>\n",
       "      <td>195.0</td>\n",
       "    </tr>\n",
       "  </tbody>\n",
       "</table>\n",
       "</div>"
      ],
      "text/plain": [
       "         target_runs\n",
       "id                  \n",
       "1304087        147.0\n",
       "501228         142.0\n",
       "1312199        158.0\n",
       "829723         166.0\n",
       "1136595        128.0\n",
       "548357         154.0\n",
       "336034         157.0\n",
       "336011         141.0\n",
       "1254071        121.0\n",
       "598033         195.0"
      ]
     },
     "execution_count": 85,
     "metadata": {},
     "output_type": "execute_result"
    }
   ],
   "source": [
    "sf2.sample(10)"
   ]
  },
  {
   "cell_type": "code",
   "execution_count": 92,
   "id": "24efb3ba-6400-46e0-b97a-739cd8dce148",
   "metadata": {},
   "outputs": [
    {
     "data": {
      "text/html": [
       "<div>\n",
       "<style scoped>\n",
       "    .dataframe tbody tr th:only-of-type {\n",
       "        vertical-align: middle;\n",
       "    }\n",
       "\n",
       "    .dataframe tbody tr th {\n",
       "        vertical-align: top;\n",
       "    }\n",
       "\n",
       "    .dataframe thead th {\n",
       "        text-align: right;\n",
       "    }\n",
       "</style>\n",
       "<table border=\"1\" class=\"dataframe\">\n",
       "  <thead>\n",
       "    <tr style=\"text-align: right;\">\n",
       "      <th></th>\n",
       "      <th>target_runs</th>\n",
       "    </tr>\n",
       "    <tr>\n",
       "      <th>id</th>\n",
       "      <th></th>\n",
       "    </tr>\n",
       "  </thead>\n",
       "  <tbody>\n",
       "    <tr>\n",
       "      <th>419139</th>\n",
       "      <td>301.0</td>\n",
       "    </tr>\n",
       "    <tr>\n",
       "      <th>501210</th>\n",
       "      <td>283.0</td>\n",
       "    </tr>\n",
       "    <tr>\n",
       "      <th>829737</th>\n",
       "      <td>310.0</td>\n",
       "    </tr>\n",
       "    <tr>\n",
       "      <th>1136577</th>\n",
       "      <td>305.0</td>\n",
       "    </tr>\n",
       "    <tr>\n",
       "      <th>598069</th>\n",
       "      <td>231.0</td>\n",
       "    </tr>\n",
       "    <tr>\n",
       "      <th>392224</th>\n",
       "      <td>230.0</td>\n",
       "    </tr>\n",
       "    <tr>\n",
       "      <th>1304107</th>\n",
       "      <td>278.0</td>\n",
       "    </tr>\n",
       "    <tr>\n",
       "      <th>392182</th>\n",
       "      <td>234.0</td>\n",
       "    </tr>\n",
       "    <tr>\n",
       "      <th>336026</th>\n",
       "      <td>255.0</td>\n",
       "    </tr>\n",
       "    <tr>\n",
       "      <th>1304104</th>\n",
       "      <td>261.0</td>\n",
       "    </tr>\n",
       "  </tbody>\n",
       "</table>\n",
       "</div>"
      ],
      "text/plain": [
       "         target_runs\n",
       "id                  \n",
       "419139         301.0\n",
       "501210         283.0\n",
       "829737         310.0\n",
       "1136577        305.0\n",
       "598069         231.0\n",
       "392224         230.0\n",
       "1304107        278.0\n",
       "392182         234.0\n",
       "336026         255.0\n",
       "1304104        261.0"
      ]
     },
     "execution_count": 92,
     "metadata": {},
     "output_type": "execute_result"
    }
   ],
   "source": [
    "sf2.value_counts\n",
    "sf2>50\n",
    "(sf2+100).sample(10)"
   ]
  },
  {
   "cell_type": "code",
   "execution_count": 99,
   "id": "6512f140-c317-4ad8-a935-3bc9ba7e5f65",
   "metadata": {},
   "outputs": [
    {
     "name": "stdout",
     "output_type": "stream",
     "text": [
      "[223.]\n",
      "[255.]\n",
      "[130.]\n",
      "[166.]\n",
      "[111.]\n",
      "[167.]\n",
      "[143.]\n",
      "[209.]\n",
      "[215.]\n",
      "[183.]\n"
     ]
    }
   ],
   "source": [
    "for i,b in enumerate(sf2.values):\n",
    "    if i<10:\n",
    "      print(b)\n",
    "    else:\n",
    "        break\n",
    "else:\n",
    "    print(\"there iss leass then 10 items in series\")"
   ]
  },
  {
   "cell_type": "code",
   "execution_count": 102,
   "id": "2ad5402c-fee4-4490-8634-a280578031df",
   "metadata": {},
   "outputs": [
    {
     "data": {
      "text/plain": [
       "pandas.core.frame.DataFrame"
      ]
     },
     "execution_count": 102,
     "metadata": {},
     "output_type": "execute_result"
    }
   ],
   "source": [
    "len(sf2)\n",
    "type(sf2)"
   ]
  },
  {
   "cell_type": "code",
   "execution_count": 108,
   "id": "1b6fd763-1703-4494-8554-23bbeca93165",
   "metadata": {},
   "outputs": [
    {
     "data": {
      "text/plain": [
       "id\n",
       "733993      43.0\n",
       "1082648     48.0\n",
       "501245      52.0\n",
       "336025      53.0\n",
       "392183      54.0\n",
       "           ...  \n",
       "1422126    278.0\n",
       "1426268    288.0\n",
       "501265       NaN\n",
       "829763       NaN\n",
       "1359519      NaN\n",
       "Name: target_runs, Length: 1095, dtype: float64"
      ]
     },
     "execution_count": 108,
     "metadata": {},
     "output_type": "execute_result"
    }
   ],
   "source": [
    "#sort_index sort_values\n",
    "#sorted(sf2)\n",
    "sf2=sf2.squeeze()\n",
    "sf2.sort_values()"
   ]
  },
  {
   "cell_type": "code",
   "execution_count": 112,
   "id": "e4fc05da-976b-4448-8dbd-35921d3d6056",
   "metadata": {},
   "outputs": [
    {
     "data": {
      "text/plain": [
       "<Axes: xlabel='id'>"
      ]
     },
     "execution_count": 112,
     "metadata": {},
     "output_type": "execute_result"
    },
    {
     "data": {
      "image/png": "[encoded data removed]",
      "text/plain": [
       "<Figure size 640x480 with 1 Axes>"
      ]
     },
     "metadata": {},
     "output_type": "display_data"
    }
   ],
   "source": [
    "sf2.plot()"
   ]
  },
  {
   "cell_type": "code",
   "execution_count": 114,
   "id": "127d40e0-f10a-4a88-8778-86388847d3fe",
   "metadata": {},
   "outputs": [
    {
     "data": {
      "text/plain": [
       "<Axes: >"
      ]
     },
     "execution_count": 114,
     "metadata": {},
     "output_type": "execute_result"
    },
    {
     "data": {
      "image/png": "[encoded data removed]",
      "text/plain": [
       "<Figure size 640x480 with 1 Axes>"
      ]
     },
     "metadata": {},
     "output_type": "display_data"
    }
   ],
   "source": [
    "k.plot(kind='bar')"
   ]
  },
  {
   "cell_type": "code",
   "execution_count": 120,
   "id": "91df3054-8915-45ec-89b9-45c2c2800a9b",
   "metadata": {},
   "outputs": [
    {
     "data": {
      "text/plain": [
       "id\n",
       "335982     223\n",
       "335983     255\n",
       "335984     130\n",
       "335985     166\n",
       "335986     111\n",
       "          ... \n",
       "1426307    215\n",
       "1426309    160\n",
       "1426310    173\n",
       "1426311    176\n",
       "1426312    114\n",
       "Name: target_runs, Length: 1095, dtype: Int16"
      ]
     },
     "execution_count": 120,
     "metadata": {},
     "output_type": "execute_result"
    }
   ],
   "source": [
    "import numpy as np\n",
    "type(sf2)\n",
    "sf2.astype('Int16')#int does not allow nan values"
   ]
  },
  {
   "cell_type": "code",
   "execution_count": 121,
   "id": "ec090fa5-a6ee-464b-b117-5b0c78b09bc7",
   "metadata": {},
   "outputs": [
    {
     "data": {
      "text/plain": [
       "id\n",
       "335982     200.0\n",
       "335983     200.0\n",
       "335984     130.0\n",
       "335985     166.0\n",
       "335986     111.0\n",
       "           ...  \n",
       "1426307    200.0\n",
       "1426309    160.0\n",
       "1426310    173.0\n",
       "1426311    176.0\n",
       "1426312    114.0\n",
       "Name: target_runs, Length: 1095, dtype: float64"
      ]
     },
     "execution_count": 121,
     "metadata": {},
     "output_type": "execute_result"
    }
   ],
   "source": [
    "np.clip(sf2,70,200)"
   ]
  },
  {
   "cell_type": "code",
   "execution_count": 125,
   "id": "2d2b74a3-663d-425c-b509-eb3af21da011",
   "metadata": {},
   "outputs": [
    {
     "data": {
      "text/plain": [
       "target_runs\n",
       "False    1060\n",
       "True       35\n",
       "Name: count, dtype: int64"
      ]
     },
     "execution_count": 125,
     "metadata": {},
     "output_type": "execute_result"
    }
   ],
   "source": [
    "#.between give booleen series can use as mask\n",
    "sf2.between(50,100).value_counts()"
   ]
  },
  {
   "cell_type": "code",
   "execution_count": 133,
   "id": "ea6898a9-0225-4853-a2b4-94aea39df6a1",
   "metadata": {},
   "outputs": [
    {
     "data": {
      "text/plain": [
       "target_runs\n",
       "False    1091\n",
       "True        4\n",
       "Name: count, dtype: int64"
      ]
     },
     "execution_count": 133,
     "metadata": {},
     "output_type": "execute_result"
    }
   ],
   "source": [
    "sf2.duplicated()#like is_duplicate\n",
    "#drop_duplicates\n",
    "sf2.isnull()\n",
    "sf2.fillna(50)\n",
    "#dropna()\n",
    "#.isin()\n",
    "sf2.isin([80,90,100,122]).value_counts()\n"
   ]
  },
  {
   "cell_type": "code",
   "execution_count": 134,
   "id": "26fb6e4a-ce70-43c4-81f9-2710d06817b4",
   "metadata": {},
   "outputs": [
    {
     "data": {
      "text/html": [
       "<div>\n",
       "<style scoped>\n",
       "    .dataframe tbody tr th:only-of-type {\n",
       "        vertical-align: middle;\n",
       "    }\n",
       "\n",
       "    .dataframe tbody tr th {\n",
       "        vertical-align: top;\n",
       "    }\n",
       "\n",
       "    .dataframe thead th {\n",
       "        text-align: right;\n",
       "    }\n",
       "</style>\n",
       "<table border=\"1\" class=\"dataframe\">\n",
       "  <thead>\n",
       "    <tr style=\"text-align: right;\">\n",
       "      <th></th>\n",
       "      <th>duration</th>\n",
       "    </tr>\n",
       "    <tr>\n",
       "      <th>show_id</th>\n",
       "      <th></th>\n",
       "    </tr>\n",
       "  </thead>\n",
       "  <tbody>\n",
       "    <tr>\n",
       "      <th>s6593</th>\n",
       "      <td>140 min</td>\n",
       "    </tr>\n",
       "    <tr>\n",
       "      <th>s5472</th>\n",
       "      <td>79 min</td>\n",
       "    </tr>\n",
       "    <tr>\n",
       "      <th>s7323</th>\n",
       "      <td>87 min</td>\n",
       "    </tr>\n",
       "  </tbody>\n",
       "</table>\n",
       "</div>"
      ],
      "text/plain": [
       "        duration\n",
       "show_id         \n",
       "s6593    140 min\n",
       "s5472     79 min\n",
       "s7323     87 min"
      ]
     },
     "execution_count": 134,
     "metadata": {},
     "output_type": "execute_result"
    }
   ],
   "source": [
    "sf1.sample(3)"
   ]
  },
  {
   "cell_type": "code",
   "execution_count": 136,
   "id": "45fe5beb-5f3b-44f3-aeab-209f7d4a6ded",
   "metadata": {},
   "outputs": [
    {
     "data": {
      "text/plain": [
       "id\n",
       "335982     233.0\n",
       "335983     265.0\n",
       "335984     140.0\n",
       "335985     176.0\n",
       "335986     121.0\n",
       "           ...  \n",
       "1426307    225.0\n",
       "1426309    170.0\n",
       "1426310    183.0\n",
       "1426311    186.0\n",
       "1426312    124.0\n",
       "Name: target_runs, Length: 1095, dtype: float64"
      ]
     },
     "execution_count": 136,
     "metadata": {},
     "output_type": "execute_result"
    }
   ],
   "source": [
    "#.map can also map dictionaries values to series values based on index give new series consider series values as keys of dictionary\n",
    "sf2.map(lambda x:x+10)"
   ]
  },
  {
   "cell_type": "code",
   "execution_count": 139,
   "id": "f8fcfe95-1479-47d0-9d6c-c79c4c684acc",
   "metadata": {},
   "outputs": [
    {
     "data": {
      "text/plain": [
       "Series([], Name: target_runs, dtype: float64)"
      ]
     },
     "execution_count": 139,
     "metadata": {},
     "output_type": "execute_result"
    }
   ],
   "source": [
    "sf2.filter([196,190,183,173])"
   ]
  },
  {
   "cell_type": "code",
   "execution_count": 140,
   "id": "290d6f24-c8ff-4478-9132-1b963cde5149",
   "metadata": {},
   "outputs": [
    {
     "data": {
      "text/plain": [
       "id\n",
       "335982     224.0\n",
       "335983     256.0\n",
       "335984     131.0\n",
       "335985     167.0\n",
       "335986     112.0\n",
       "           ...  \n",
       "1426307    216.0\n",
       "1426309    161.0\n",
       "1426310    174.0\n",
       "1426311    177.0\n",
       "1426312    115.0\n",
       "Name: target_runs, Length: 1095, dtype: float64"
      ]
     },
     "execution_count": 140,
     "metadata": {},
     "output_type": "execute_result"
    }
   ],
   "source": [
    "sf2.apply(lambda x:x+1)"
   ]
  },
  {
   "cell_type": "code",
   "execution_count": 146,
   "id": "43db5165-9073-4676-b0fc-5bdc79ab4067",
   "metadata": {},
   "outputs": [
    {
     "data": {
      "text/plain": [
       "0    166.0\n",
       "1    172.0\n",
       "Name: target_runs, dtype: float64"
      ]
     },
     "execution_count": 146,
     "metadata": {},
     "output_type": "execute_result"
    }
   ],
   "source": [
    "sf2.agg(['mean','median','max'])\n",
    "sf2.mode()"
   ]
  },
  {
   "cell_type": "code",
   "execution_count": 147,
   "id": "41a1ce2e-8cbd-4233-84cb-a5d8b9af5cbf",
   "metadata": {},
   "outputs": [
    {
     "data": {
      "text/plain": [
       "id\n",
       "335982    223.0\n",
       "335983    255.0\n",
       "335984    130.0\n",
       "335985    166.0\n",
       "335986    111.0\n",
       "Name: target_runs, dtype: float64"
      ]
     },
     "execution_count": 147,
     "metadata": {},
     "output_type": "execute_result"
    }
   ],
   "source": [
    "h=sf2.head(5).copy()\n",
    "h"
   ]
  },
  {
   "cell_type": "code",
   "execution_count": null,
   "id": "8bdcdd8a-98a9-406f-9c4b-a2178bf09ea6",
   "metadata": {},
   "outputs": [],
   "source": []
  }
 ],
 "metadata": {
  "kernelspec": {
   "display_name": "Python 3 (ipykernel)",
   "language": "python",
   "name": "python3"
  },
  "language_info": {
   "codemirror_mode": {
    "name": "ipython",
    "version": 3
   },
   "file_extension": ".py",
   "mimetype": "text/x-python",
   "name": "python",
   "nbconvert_exporter": "python",
   "pygments_lexer": "ipython3",
   "version": "3.12.4"
  }
 },
 "nbformat": 4,
 "nbformat_minor": 5
}
