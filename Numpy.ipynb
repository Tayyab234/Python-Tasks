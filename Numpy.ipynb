{
 "cells": [
  {
   "cell_type": "code",
   "execution_count": 1,
   "id": "4862ccd8-8d03-4858-8545-b714c0a4081f",
   "metadata": {},
   "outputs": [],
   "source": [
    "import numpy as np"
   ]
  },
  {
   "cell_type": "code",
   "execution_count": 2,
   "id": "7a6633c3-295e-4aa2-bac9-de28f62a2288",
   "metadata": {},
   "outputs": [],
   "source": [
    "a1=np.array([1,2,3])\n",
    "a2=np.array([[1,2],[3,4]])\n",
    "a3=np.array([[[1,2],[3,4]],[[5,6],[7,8]]])#2-D\n",
    "a4=np.array([[[[1,2],[3,4]],[[5,6],[7,8]]],[[[1,2],[3,4]],[[5,6],[7,8]]]])#4-D"
   ]
  },
  {
   "cell_type": "code",
   "execution_count": 3,
   "id": "45322484-4dec-4db7-a27a-ba7c436ffb9c",
   "metadata": {},
   "outputs": [
    {
     "data": {
      "text/plain": [
       "(2, 2, 2, 2)"
      ]
     },
     "execution_count": 3,
     "metadata": {},
     "output_type": "execute_result"
    }
   ],
   "source": [
    "a4.shape"
   ]
  },
  {
   "cell_type": "code",
   "execution_count": 4,
   "id": "176e8d8c-3420-4ca5-bb97-971b13f5cfe3",
   "metadata": {},
   "outputs": [
    {
     "data": {
      "text/plain": [
       "array([ True,  True,  True,  True, False])"
      ]
     },
     "execution_count": 4,
     "metadata": {},
     "output_type": "execute_result"
    }
   ],
   "source": [
    "h1=np.array([1,2,3,4,0],dtype=bool)#bool ,int,float\n",
    "h1"
   ]
  },
  {
   "cell_type": "code",
   "execution_count": 5,
   "id": "3a5be3c3-c361-469e-8a4c-e4cc9eb6aec1",
   "metadata": {},
   "outputs": [
    {
     "data": {
      "text/plain": [
       "array([[ 1,  3,  5],\n",
       "       [ 7,  9, 11]])"
      ]
     },
     "execution_count": 5,
     "metadata": {},
     "output_type": "execute_result"
    }
   ],
   "source": [
    "k=np.arange(1,10,2)#like range\n",
    "k1=np.arange(1,12,2).reshape(2,3) #must allign witrh no of elements\n",
    "k1"
   ]
  },
  {
   "cell_type": "code",
   "execution_count": 6,
   "id": "36b821f6-33e6-4e1f-bbbd-1190e5e3e223",
   "metadata": {},
   "outputs": [
    {
     "data": {
      "text/plain": [
       "array([[0., 0.],\n",
       "       [0., 0.]])"
      ]
     },
     "execution_count": 6,
     "metadata": {},
     "output_type": "execute_result"
    }
   ],
   "source": [
    "k=np.ones((3,4))\n",
    "k=np.zeros((2,2))\n",
    "k"
   ]
  },
  {
   "cell_type": "code",
   "execution_count": 7,
   "id": "43c66659-d3da-4385-a06c-719700c18673",
   "metadata": {},
   "outputs": [
    {
     "data": {
      "text/plain": [
       "array([ 10.,  20.,  30.,  40.,  50.,  60.,  70.,  80.,  90., 100.])"
      ]
     },
     "execution_count": 7,
     "metadata": {},
     "output_type": "execute_result"
    }
   ],
   "source": [
    "k=np.random.random((3,3))#generate float integers 0 to 1 range\n",
    "k1=np.random.randint(2,9,size=(2,2))\n",
    "k2=np.linspace(10,100,10)#floating number\n",
    "k2"
   ]
  },
  {
   "cell_type": "code",
   "execution_count": 8,
   "id": "d572e1a1-7e9c-4889-8747-b3532a55bb3a",
   "metadata": {},
   "outputs": [
    {
     "data": {
      "text/plain": [
       "array([[1., 0.],\n",
       "       [0., 1.]])"
      ]
     },
     "execution_count": 8,
     "metadata": {},
     "output_type": "execute_result"
    }
   ],
   "source": [
    "np.identity(2)#generate identity matrix"
   ]
  },
  {
   "cell_type": "code",
   "execution_count": 9,
   "id": "826f9cfb-990b-4096-be17-2a551bf7c3ff",
   "metadata": {},
   "outputs": [
    {
     "data": {
      "text/plain": [
       "4"
      ]
     },
     "execution_count": 9,
     "metadata": {},
     "output_type": "execute_result"
    }
   ],
   "source": [
    "a4.ndim #tell no of dimensions in int 4-D = 4\n",
    "a4.size #gives you total no of items irespective of dimensions\n",
    "a1.itemsize#size in bytes"
   ]
  },
  {
   "cell_type": "code",
   "execution_count": 10,
   "id": "9b609b00-a9ab-4646-af8b-b9302f291913",
   "metadata": {},
   "outputs": [
    {
     "data": {
      "text/plain": [
       "4"
      ]
     },
     "execution_count": 10,
     "metadata": {},
     "output_type": "execute_result"
    }
   ],
   "source": [
    "h1.dtype\n",
    "h1.astype(np.int32)#change data type\n",
    "a1.astype(np.int8)\n",
    "a1.itemsize"
   ]
  },
  {
   "cell_type": "code",
   "execution_count": 11,
   "id": "4ea811a3-4c63-4919-9829-b7d67d5347c2",
   "metadata": {},
   "outputs": [
    {
     "data": {
      "text/plain": [
       "array([0.5, 1. , 1.5])"
      ]
     },
     "execution_count": 11,
     "metadata": {},
     "output_type": "execute_result"
    }
   ],
   "source": [
    "a1*2\n",
    "a1+2\n",
    "a1**2\n",
    "a1/2"
   ]
  },
  {
   "cell_type": "code",
   "execution_count": 12,
   "id": "e7a68ed0-cf1d-4986-9166-e00e1966c62e",
   "metadata": {},
   "outputs": [
    {
     "data": {
      "text/plain": [
       "array([False,  True,  True])"
      ]
     },
     "execution_count": 12,
     "metadata": {},
     "output_type": "execute_result"
    }
   ],
   "source": [
    "#gives bool value\n",
    "a1==15 \n",
    "a1>1"
   ]
  },
  {
   "cell_type": "code",
   "execution_count": 13,
   "id": "fddbb1e3-dd98-4151-82b8-64ccc95026ed",
   "metadata": {},
   "outputs": [
    {
     "data": {
      "text/plain": [
       "array([[  0,  12,  26,  42,  60],\n",
       "       [ 80, 102, 126, 152, 180]])"
      ]
     },
     "execution_count": 13,
     "metadata": {},
     "output_type": "execute_result"
    }
   ],
   "source": [
    "ar1=np.arange(0,10).reshape(2,5)\n",
    "ar2=np.arange(11,21).reshape(2,5)\n",
    "ar=ar1*ar2\n",
    "ar1+ar2\n",
    "ar"
   ]
  },
  {
   "cell_type": "code",
   "execution_count": 14,
   "id": "03fe3b58-6748-4338-808f-4e73c5f75e97",
   "metadata": {},
   "outputs": [
    {
     "data": {
      "text/plain": [
       "array([[ 0.        , -0.53657292,  0.76255845, -0.91652155, -0.30481062],\n",
       "       [-0.99388865,  0.99482679,  0.32999083,  0.93332052, -0.80115264]])"
      ]
     },
     "execution_count": 14,
     "metadata": {},
     "output_type": "execute_result"
    }
   ],
   "source": [
    "np.max(ar)\n",
    "np.min(ar)\n",
    "np.max(ar,axis=0)#axis=0 column wise , axis=1 rowwise\n",
    "np.mean(ar)\n",
    "np.median(ar,axis=1) #std ,var\n",
    "np.sin(ar) #cos tan"
   ]
  },
  {
   "cell_type": "code",
   "execution_count": 15,
   "id": "f814007b-f873-4baf-9ad2-8f2c603748b1",
   "metadata": {},
   "outputs": [
    {
     "data": {
      "text/plain": [
       "array([[ 60,  70],\n",
       "       [160, 195]])"
      ]
     },
     "execution_count": 15,
     "metadata": {},
     "output_type": "execute_result"
    }
   ],
   "source": [
    "k=np.arange(0,10).reshape(2,5)\n",
    "k1=np.arange(0,10).reshape(5,2)\n",
    "np.dot(k,k1)"
   ]
  },
  {
   "cell_type": "code",
   "execution_count": 16,
   "id": "840d53ec-e9a1-483f-ae6a-26b0b02bd31b",
   "metadata": {},
   "outputs": [
    {
     "name": "stderr",
     "output_type": "stream",
     "text": [
      "C:\\Users\\HP\\AppData\\Local\\Temp\\ipykernel_16292\\2481232914.py:1: RuntimeWarning: divide by zero encountered in log\n",
      "  np.log(k)\n"
     ]
    },
    {
     "data": {
      "text/plain": [
       "array([[1.00000000e+00, 2.71828183e+00, 7.38905610e+00, 2.00855369e+01,\n",
       "        5.45981500e+01],\n",
       "       [1.48413159e+02, 4.03428793e+02, 1.09663316e+03, 2.98095799e+03,\n",
       "        8.10308393e+03]])"
      ]
     },
     "execution_count": 16,
     "metadata": {},
     "output_type": "execute_result"
    }
   ],
   "source": [
    "np.log(k)\n",
    "np.exp(k)#exponent"
   ]
  },
  {
   "cell_type": "code",
   "execution_count": 17,
   "id": "ada33c83-5ea8-43aa-b795-aa8ac6199dbd",
   "metadata": {},
   "outputs": [
    {
     "name": "stdout",
     "output_type": "stream",
     "text": [
      "[1 2 3] \n",
      " [[1 2]\n",
      " [3 4]] \n",
      "\n",
      "\n",
      " [[[1 2]\n",
      "  [3 4]]\n",
      "\n",
      " [[5 6]\n",
      "  [7 8]]]\n"
     ]
    }
   ],
   "source": [
    "print(a1,'\\n',a2,'\\n\\n\\n',a3)"
   ]
  },
  {
   "cell_type": "code",
   "execution_count": 98,
   "id": "8b6968bf-d4d4-4693-8ceb-2f58c458af71",
   "metadata": {},
   "outputs": [
    {
     "data": {
      "text/plain": [
       "array([[[ 1,  2,  3,  4,  5],\n",
       "        [ 6,  7,  8,  9, 10],\n",
       "        [11, 12, 13, 14, 15],\n",
       "        [16, 17, 18, 19, 20],\n",
       "        [21, 22, 23, 24, 25]],\n",
       "\n",
       "       [[26, 27, 28, 29, 30],\n",
       "        [31, 32, 33, 34, 35],\n",
       "        [36, 37, 38, 39, 40],\n",
       "        [41, 42, 43, 44, 45],\n",
       "        [46, 47, 48, 49, 50]],\n",
       "\n",
       "       [[51, 52, 53, 54, 55],\n",
       "        [56, 57, 58, 59, 60],\n",
       "        [61, 62, 63, 64, 65],\n",
       "        [66, 67, 68, 69, 70],\n",
       "        [71, 72, 73, 74, 75]]])"
      ]
     },
     "execution_count": 98,
     "metadata": {},
     "output_type": "execute_result"
    }
   ],
   "source": [
    "ar3=np.arange(1,76).reshape(3,5,5)\n",
    "a1[1]\n",
    "a1[1:2]\n",
    "a2[1,1]#row,column\n",
    "a3[1,1,1]#which 2-d ,row,column\n",
    "ar3\n"
   ]
  },
  {
   "cell_type": "code",
   "execution_count": 19,
   "id": "6cb7c2e1-f4f7-4f8c-b645-617eddf64a92",
   "metadata": {},
   "outputs": [
    {
     "data": {
      "text/plain": [
       "array([[[ 1,  2,  3,  4,  5],\n",
       "        [11, 12, 13, 14, 15]],\n",
       "\n",
       "       [[26, 27, 28, 29, 30],\n",
       "        [36, 37, 38, 39, 40]]])"
      ]
     },
     "execution_count": 19,
     "metadata": {},
     "output_type": "execute_result"
    }
   ],
   "source": [
    "ar3[[0,1],[[0,3],[1,2]],:]#advanced fancy indexing mixing results\n",
    "ar3[0,[0,3],:]\n",
    "ar3[[0,1],0:3:2,:]#"
   ]
  },
  {
   "cell_type": "code",
   "execution_count": 20,
   "id": "b354ad43-2ddb-4810-a790-b443533bd78b",
   "metadata": {},
   "outputs": [
    {
     "name": "stdout",
     "output_type": "stream",
     "text": [
      "[[ 1  2  3  4  5]\n",
      " [ 6  7  8  9 10]\n",
      " [11 12 13 14 15]\n",
      " [16 17 18 19 20]\n",
      " [21 22 23 24 25]]\n",
      "[[26 27 28 29 30]\n",
      " [31 32 33 34 35]\n",
      " [36 37 38 39 40]\n",
      " [41 42 43 44 45]\n",
      " [46 47 48 49 50]]\n",
      "[[51 52 53 54 55]\n",
      " [56 57 58 59 60]\n",
      " [61 62 63 64 65]\n",
      " [66 67 68 69 70]\n",
      " [71 72 73 74 75]]\n"
     ]
    }
   ],
   "source": [
    "for i in ar3:\n",
    "    print(i)"
   ]
  },
  {
   "cell_type": "code",
   "execution_count": 21,
   "id": "8821190e-2f85-4ee8-b46c-b100c7ccd13b",
   "metadata": {},
   "outputs": [
    {
     "data": {
      "text/plain": [
       "array([[ 1,  6],\n",
       "       [ 2,  7],\n",
       "       [ 3,  8],\n",
       "       [ 4,  9],\n",
       "       [ 5, 10]])"
      ]
     },
     "execution_count": 21,
     "metadata": {},
     "output_type": "execute_result"
    }
   ],
   "source": [
    "np.transpose(ar3[0])#ao also apply on ar3\n",
    "ar1=np.transpose(ar3[0,[0,1],:])#ao also apply on ar3\n",
    "ar1"
   ]
  },
  {
   "cell_type": "code",
   "execution_count": 22,
   "id": "ec70a553-a020-4896-8574-5587eb7b4e60",
   "metadata": {},
   "outputs": [
    {
     "data": {
      "text/plain": [
       "array([ 1,  2,  3,  4,  5,  6,  7,  8,  9, 10, 11, 12, 13, 14, 15, 16, 17,\n",
       "       18, 19, 20, 21, 22, 23, 24, 25, 26, 27, 28, 29, 30, 31, 32, 33, 34,\n",
       "       35, 36, 37, 38, 39, 40, 41, 42, 43, 44, 45, 46, 47, 48, 49, 50, 51,\n",
       "       52, 53, 54, 55, 56, 57, 58, 59, 60, 61, 62, 63, 64, 65, 66, 67, 68,\n",
       "       69, 70, 71, 72, 73, 74, 75])"
      ]
     },
     "execution_count": 22,
     "metadata": {},
     "output_type": "execute_result"
    }
   ],
   "source": [
    "np.nditer(ar3)#iterable object\n",
    "ar3.ravel()"
   ]
  },
  {
   "cell_type": "code",
   "execution_count": 23,
   "id": "d2c6aff0-d154-4fec-8ea3-d1fc5a1ffa63",
   "metadata": {},
   "outputs": [],
   "source": [
    "ar2=np.arange(1,11).reshape(5,2)\n",
    "ar4=np.arange(1,5).reshape(2,2)\n",
    "k1=np.hstack((ar1,ar2))\n",
    "k2=np.vstack((ar1,ar4))"
   ]
  },
  {
   "cell_type": "code",
   "execution_count": 24,
   "id": "b01fe939-9641-4a2e-b168-8d607ae67c28",
   "metadata": {},
   "outputs": [
    {
     "data": {
      "text/plain": [
       "[array([[1],\n",
       "        [2],\n",
       "        [3],\n",
       "        [4],\n",
       "        [5],\n",
       "        [1],\n",
       "        [3]]),\n",
       " array([[ 6],\n",
       "        [ 7],\n",
       "        [ 8],\n",
       "        [ 9],\n",
       "        [10],\n",
       "        [ 2],\n",
       "        [ 4]])]"
      ]
     },
     "execution_count": 24,
     "metadata": {},
     "output_type": "execute_result"
    }
   ],
   "source": [
    "np.hsplit(k2,2) #column vise split even number of columns"
   ]
  },
  {
   "cell_type": "code",
   "execution_count": null,
   "id": "3ba4c399-411b-4bc8-8bf6-0e21651a5ee3",
   "metadata": {},
   "outputs": [],
   "source": [
    "np.vsplit(k2,2) #error because it must be qual division even number of rows "
   ]
  },
  {
   "cell_type": "code",
   "execution_count": 26,
   "id": "ceb0bf93-4654-4449-ac61-f142dcf08dd8",
   "metadata": {},
   "outputs": [
    {
     "data": {
      "text/plain": [
       "144"
      ]
     },
     "execution_count": 26,
     "metadata": {},
     "output_type": "execute_result"
    }
   ],
   "source": [
    "import time\n",
    "import sys\n",
    "time.time()\n",
    "time.perf_counter()\n",
    "sys.getsizeof(ar3)"
   ]
  },
  {
   "cell_type": "code",
   "execution_count": 27,
   "id": "8f2d92fd-c7dc-4507-954d-ca18ce5cbbc6",
   "metadata": {},
   "outputs": [],
   "source": [
    "ar3=ar3.astype(np.int16)"
   ]
  },
  {
   "cell_type": "code",
   "execution_count": 28,
   "id": "bbca84ba-7cde-427a-87c5-40ce0b95bc59",
   "metadata": {},
   "outputs": [
    {
     "data": {
      "text/plain": [
       "array([ 1,  3,  5,  7,  9, 11, 13, 15, 17, 19, 21, 23, 25, 27, 29, 31, 33,\n",
       "       35, 37, 39, 41, 43, 45, 47, 49], dtype=int16)"
      ]
     },
     "execution_count": 28,
     "metadata": {},
     "output_type": "execute_result"
    }
   ],
   "source": [
    "ar3[ar3>50] #it gives all those element in 1 D array who is greater then 50 ar3>50 give boolean series which work as mask\n",
    "#a%2 ((a>50) & (a%2))\n",
    "ar3[~((ar3>50) | (ar3%2==0))] # | : or & : and ~ : not "
   ]
  },
  {
   "cell_type": "code",
   "execution_count": 33,
   "id": "1e377f93-df5b-4eef-b355-9e4fb9eff893",
   "metadata": {},
   "outputs": [
    {
     "data": {
      "text/plain": [
       "array([11.,  2.,  3.,  5.])"
      ]
     },
     "execution_count": 33,
     "metadata": {},
     "output_type": "execute_result"
    }
   ],
   "source": [
    "a1=np.array([11,2,3,np.nan,5])\n",
    "a1[~np.isnan(a1)]"
   ]
  },
  {
   "cell_type": "code",
   "execution_count": 43,
   "id": "5bebc0dd-7278-4880-8944-ca091bee7c2e",
   "metadata": {},
   "outputs": [
    {
     "data": {
      "text/plain": [
       "array([[21, 22, 23, 24, 25],\n",
       "       [16, 17, 18, 19, 20],\n",
       "       [11, 12, 13, 14, 15],\n",
       "       [ 6,  7,  8,  9, 10],\n",
       "       [ 1,  2,  3,  4,  5]], dtype=int16)"
      ]
     },
     "execution_count": 43,
     "metadata": {},
     "output_type": "execute_result"
    }
   ],
   "source": [
    "np.sort(ar3)[::-1]\n",
    "np.sort(ar3[2][1])[::-1]#reverse sorting\n",
    "np.sort(ar3[0],axis=1)[::-1]#reverse sorting"
   ]
  },
  {
   "cell_type": "code",
   "execution_count": 51,
   "id": "6e9e35d4-0f11-4b72-a47d-4b0eb63c443a",
   "metadata": {},
   "outputs": [
    {
     "data": {
      "text/plain": [
       "array([[ 1.,  2.,  3.,  4.,  5.,  1.],\n",
       "       [ 6.,  7.,  8.,  9., 10.,  1.],\n",
       "       [11., 12., 13., 14., 15.,  1.],\n",
       "       [16., 17., 18., 19., 20.,  1.],\n",
       "       [21., 22., 23., 24., 25.,  1.]])"
      ]
     },
     "execution_count": 51,
     "metadata": {},
     "output_type": "execute_result"
    }
   ],
   "source": [
    "np.append(a1,100)\n",
    "np.append(ar3,100)#convert it to one -D then append\n",
    "np.append(ar3[0],np.ones((ar3[0].shape[0],1)),axis=1)#column wise"
   ]
  },
  {
   "cell_type": "code",
   "execution_count": 53,
   "id": "f0abca76-2831-41bf-a584-fd8773513bbc",
   "metadata": {},
   "outputs": [
    {
     "data": {
      "text/plain": [
       "array([[ 1,  2,  3,  4,  5],\n",
       "       [ 6,  7,  8,  9, 10],\n",
       "       [11, 12, 13, 14, 15],\n",
       "       [16, 17, 18, 19, 20],\n",
       "       [21, 22, 23, 24, 25],\n",
       "       [26, 27, 28, 29, 30],\n",
       "       [31, 32, 33, 34, 35],\n",
       "       [36, 37, 38, 39, 40],\n",
       "       [41, 42, 43, 44, 45],\n",
       "       [46, 47, 48, 49, 50]], dtype=int16)"
      ]
     },
     "execution_count": 53,
     "metadata": {},
     "output_type": "execute_result"
    }
   ],
   "source": [
    "np.concatenate((ar3[0],ar3[1]),axis=1)#can used as replacement of stack\n",
    "np.concatenate((ar3[0],ar3[1]),axis=0)#can used as replacement of stack\n"
   ]
  },
  {
   "cell_type": "code",
   "execution_count": 54,
   "id": "872f3148-bb84-47bc-ba62-d9c6977aec7e",
   "metadata": {},
   "outputs": [
    {
     "data": {
      "text/plain": [
       "array([ 1,  2,  3,  4,  5,  6,  7,  8,  9, 10, 11, 12, 13, 14, 15, 16, 17,\n",
       "       18, 19, 20, 21, 22, 23, 24, 25, 26, 27, 28, 29, 30, 31, 32, 33, 34,\n",
       "       35, 36, 37, 38, 39, 40, 41, 42, 43, 44, 45, 46, 47, 48, 49, 50, 51,\n",
       "       52, 53, 54, 55, 56, 57, 58, 59, 60, 61, 62, 63, 64, 65, 66, 67, 68,\n",
       "       69, 70, 71, 72, 73, 74, 75], dtype=int16)"
      ]
     },
     "execution_count": 54,
     "metadata": {},
     "output_type": "execute_result"
    }
   ],
   "source": [
    "np.unique(ar3)#give one-D array of unique element"
   ]
  },
  {
   "cell_type": "code",
   "execution_count": 59,
   "id": "5efde32f-0afa-4320-8332-643c60169577",
   "metadata": {},
   "outputs": [
    {
     "data": {
      "text/plain": [
       "array([[[ 1,  2,  3,  4,  5]],\n",
       "\n",
       "       [[ 6,  7,  8,  9, 10]],\n",
       "\n",
       "       [[11, 12, 13, 14, 15]],\n",
       "\n",
       "       [[16, 17, 18, 19, 20]],\n",
       "\n",
       "       [[21, 22, 23, 24, 25]]], dtype=int16)"
      ]
     },
     "execution_count": 59,
     "metadata": {},
     "output_type": "execute_result"
    }
   ],
   "source": [
    "l1=np.expand_dims(ar3[0],axis=0)\n",
    "l2=np.expand_dims(ar3[0],axis=1)\n",
    "l1.shape\n",
    "l2.shape\n",
    "l2"
   ]
  },
  {
   "cell_type": "code",
   "execution_count": 62,
   "id": "f84b4643-e952-465a-8e31-ab3526a43d29",
   "metadata": {},
   "outputs": [
    {
     "data": {
      "text/plain": [
       "(array([2, 2, 2, 2, 2, 2, 2, 2, 2, 2, 2, 2, 2, 2, 2, 2, 2, 2, 2, 2, 2, 2,\n",
       "        2, 2, 2], dtype=int64),\n",
       " array([0, 0, 0, 0, 0, 1, 1, 1, 1, 1, 2, 2, 2, 2, 2, 3, 3, 3, 3, 3, 4, 4,\n",
       "        4, 4, 4], dtype=int64),\n",
       " array([0, 1, 2, 3, 4, 0, 1, 2, 3, 4, 0, 1, 2, 3, 4, 0, 1, 2, 3, 4, 0, 1,\n",
       "        2, 3, 4], dtype=int64))"
      ]
     },
     "execution_count": 62,
     "metadata": {},
     "output_type": "execute_result"
    }
   ],
   "source": [
    "ind=np.where(ar3>50)\n",
    "ar3[ind]\n",
    "ind"
   ]
  },
  {
   "cell_type": "code",
   "execution_count": 70,
   "id": "3ff72b4d-e1c9-4b7c-8de8-cb48ad76d637",
   "metadata": {},
   "outputs": [
    {
     "data": {
      "text/plain": [
       "array([[1, 1, 1, 1, 1],\n",
       "       [1, 1, 1, 1, 1],\n",
       "       [1, 1, 1, 1, 1],\n",
       "       [1, 1, 1, 1, 1],\n",
       "       [1, 1, 1, 1, 1]])"
      ]
     },
     "execution_count": 70,
     "metadata": {},
     "output_type": "execute_result"
    }
   ],
   "source": [
    "np.where(ar3[2]>50,1,0)#condition,True,False\n"
   ]
  },
  {
   "cell_type": "code",
   "execution_count": 77,
   "id": "45a6c346-b901-4eff-93fd-20c1af4a69b0",
   "metadata": {},
   "outputs": [
    {
     "data": {
      "text/plain": [
       "array([0, 0, 0, 0, 0], dtype=int64)"
      ]
     },
     "execution_count": 77,
     "metadata": {},
     "output_type": "execute_result"
    }
   ],
   "source": [
    "np.argmax(ar3)#convert it to 1-D then give index position\n",
    "np.argmin(ar3)\n",
    "np.argmin(ar3[0],axis=0)#row wise columnwise index position"
   ]
  },
  {
   "cell_type": "code",
   "execution_count": 83,
   "id": "aee0e0a7-f896-40ca-a529-c8a16e33f86d",
   "metadata": {},
   "outputs": [
    {
     "data": {
      "text/plain": [
       "19.0"
      ]
     },
     "execution_count": 83,
     "metadata": {},
     "output_type": "execute_result"
    }
   ],
   "source": [
    "np.cumsum(ar3)\n",
    "np.cumsum(ar3,axis=1)#cumprod\n",
    "np.percentile(ar3[0],75)#0=mininmum  100=maximum  \n"
   ]
  },
  {
   "cell_type": "code",
   "execution_count": 85,
   "id": "e5f359b7-a5a1-4687-8c24-eb4cd8080e53",
   "metadata": {},
   "outputs": [
    {
     "data": {
      "text/plain": [
       "(array([ 6,  6, 13], dtype=int64), array([ 0,  7, 13, 25]))"
      ]
     },
     "execution_count": 85,
     "metadata": {},
     "output_type": "execute_result"
    }
   ],
   "source": [
    "np.histogram(ar3[0],bins=[0,7,13,25])"
   ]
  },
  {
   "cell_type": "code",
   "execution_count": 86,
   "id": "572ea907-5764-472b-9c09-5b3269ccd8d1",
   "metadata": {},
   "outputs": [
    {
     "data": {
      "text/plain": [
       "array([[1., 1., 1., 1., 1., 1., 1., 1., 1., 1.],\n",
       "       [1., 1., 1., 1., 1., 1., 1., 1., 1., 1.],\n",
       "       [1., 1., 1., 1., 1., 1., 1., 1., 1., 1.],\n",
       "       [1., 1., 1., 1., 1., 1., 1., 1., 1., 1.],\n",
       "       [1., 1., 1., 1., 1., 1., 1., 1., 1., 1.],\n",
       "       [1., 1., 1., 1., 1., 1., 1., 1., 1., 1.],\n",
       "       [1., 1., 1., 1., 1., 1., 1., 1., 1., 1.],\n",
       "       [1., 1., 1., 1., 1., 1., 1., 1., 1., 1.],\n",
       "       [1., 1., 1., 1., 1., 1., 1., 1., 1., 1.],\n",
       "       [1., 1., 1., 1., 1., 1., 1., 1., 1., 1.]])"
      ]
     },
     "execution_count": 86,
     "metadata": {},
     "output_type": "execute_result"
    }
   ],
   "source": [
    "#np.corrcoef()  correlation of two quantity\n",
    "np.corrcoef(ar3[0],ar3[1])"
   ]
  },
  {
   "cell_type": "code",
   "execution_count": 89,
   "id": "6c35c0da-59dc-403d-908f-b0391e98d43a",
   "metadata": {},
   "outputs": [
    {
     "data": {
      "text/plain": [
       "array([[False, False, False, False, False],\n",
       "       [False, False, False, False, False],\n",
       "       [False, False, False, False, False],\n",
       "       [ True, False, False, False, False],\n",
       "       [False, False, False, False, False]])"
      ]
     },
     "execution_count": 89,
     "metadata": {},
     "output_type": "execute_result"
    }
   ],
   "source": [
    "np.isin(ar3[0],[26,27,16]) # give boolean expression can be used as mask"
   ]
  },
  {
   "cell_type": "code",
   "execution_count": 107,
   "id": "0533fe38-7482-47b1-a97e-f28b72b79a3d",
   "metadata": {},
   "outputs": [
    {
     "data": {
      "text/plain": [
       "array([[[-10,   2,   3,   4,   5],\n",
       "        [  6,   7,   8,   9,  10],\n",
       "        [ 11,  12,  13,  14,  15],\n",
       "        [ 16,  17,  18,  19,  20],\n",
       "        [ 21,  22,  23,  24,  25]],\n",
       "\n",
       "       [[ 26,  27,  28,  29,  30],\n",
       "        [ 31,  32,  33,  34,  35],\n",
       "        [ 36,  37,  38,  39,  40],\n",
       "        [ 41,  42,  43,  44,  45],\n",
       "        [ 46,  47,  48,  49,  50]],\n",
       "\n",
       "       [[300, 300, 300, 300, 300],\n",
       "        [300, 300, 300, 300, 300],\n",
       "        [300, 300, 300, 300, 300],\n",
       "        [300, 300, 300, 300, 300],\n",
       "        [300, 300, 300, 300, 300]]])"
      ]
     },
     "execution_count": 107,
     "metadata": {},
     "output_type": "execute_result"
    }
   ],
   "source": [
    "np.flip(ar3)\n",
    "np.flip(ar3,axis=1)\n",
    "np.delete(ar3,[0,1],axis=1)#used for deletion\n",
    "np.put(ar3,[np.argmin(ar3),np.argmax(ar3)],[-10,300])#permanent change replace elements traet whole array as 1-D irrespective of dimentions can be worked with argmin argmax\n",
    "ind=ar3.ravel()\n",
    "np.put(ar3,[np.where(ind>50)],[300])\n",
    "ar3"
   ]
  },
  {
   "cell_type": "code",
   "execution_count": 105,
   "id": "0b4b34ff-3150-4309-98b4-d9d81246a025",
   "metadata": {},
   "outputs": [
    {
     "data": {
      "text/plain": [
       "array([False, False, False, False, False, False, False, False, False,\n",
       "       False, False, False, False, False, False, False, False, False,\n",
       "       False, False, False, False, False, False, False])"
      ]
     },
     "execution_count": 105,
     "metadata": {},
     "output_type": "execute_result"
    }
   ],
   "source": [
    "np.intersect1d(ar3[0],ar3[1])\n",
    "np.union1d(ar3[0],ar3[1])\n",
    "np.setdiff1d(ar3[0],ar3[1])\n",
    "np.setxor1d(ar3[0],ar3[1])#work as union if both has different numbers else it elminate common number \n",
    "np.in1d(ar3[0],ar3[1])#check element of ar3[0] is present in ar3[1] can be used as mask return boolean series"
   ]
  },
  {
   "cell_type": "code",
   "execution_count": 106,
   "id": "999133fb-a870-48c5-abfb-1d1e7fdf5ac5",
   "metadata": {},
   "outputs": [
    {
     "data": {
      "text/plain": [
       "array([[ 0,  2,  3,  4,  5],\n",
       "       [ 6,  7,  8,  9, 10],\n",
       "       [11, 12, 13, 14, 15],\n",
       "       [16, 17, 18, 19, 19],\n",
       "       [19, 19, 19, 19, 19]])"
      ]
     },
     "execution_count": 106,
     "metadata": {},
     "output_type": "execute_result"
    }
   ],
   "source": [
    "np.clip(ar3[0],0,19)"
   ]
  },
  {
   "cell_type": "code",
   "execution_count": null,
   "id": "d151da79-5910-43a2-bd9e-16a86a2bde05",
   "metadata": {},
   "outputs": [],
   "source": []
  }
 ],
 "metadata": {
  "kernelspec": {
   "display_name": "Python 3 (ipykernel)",
   "language": "python",
   "name": "python3"
  },
  "language_info": {
   "codemirror_mode": {
    "name": "ipython",
    "version": 3
   },
   "file_extension": ".py",
   "mimetype": "text/x-python",
   "name": "python",
   "nbconvert_exporter": "python",
   "pygments_lexer": "ipython3",
   "version": "3.12.4"
  }
 },
 "nbformat": 4,
 "nbformat_minor": 5
}
