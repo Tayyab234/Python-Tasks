{
 "cells": [
  {
   "cell_type": "code",
   "execution_count": 1,
   "id": "2b5c8ff6-4692-4e83-903d-32cbc2d74dc2",
   "metadata": {},
   "outputs": [],
   "source": [
    "import random\n",
    "from random import randint, choice\n"
   ]
  },
  {
   "cell_type": "code",
   "execution_count": 2,
   "id": "e8d359cb-42cb-4f24-9479-0f344d1efa2d",
   "metadata": {},
   "outputs": [
    {
     "data": {
      "text/plain": [
       "0.6244026508083823"
      ]
     },
     "execution_count": 2,
     "metadata": {},
     "output_type": "execute_result"
    }
   ],
   "source": [
    "random.random()  # floating number from 0 to 1 #best utilization probability type function\n"
   ]
  },
  {
   "cell_type": "code",
   "execution_count": 5,
   "id": "200ee469-5cf8-4531-b1ab-7b5fd543a53c",
   "metadata": {},
   "outputs": [
    {
     "data": {
      "text/plain": [
       "3"
      ]
     },
     "execution_count": 5,
     "metadata": {},
     "output_type": "execute_result"
    }
   ],
   "source": [
    "random.uniform(10, 20)  # floating number in specific range  14.32\n",
    "random.randint(1, 6)  # e.g., 3\n",
    "random.randrange(1, 10, 2)  # (start,stop,step)\n"
   ]
  },
  {
   "cell_type": "code",
   "execution_count": 11,
   "id": "c0b558b8-5d04-4d89-840c-727000a225a5",
   "metadata": {},
   "outputs": [
    {
     "data": {
      "text/plain": [
       "[80, 50, 25, 90, 35]"
      ]
     },
     "execution_count": 11,
     "metadata": {},
     "output_type": "execute_result"
    }
   ],
   "source": [
    "random.choice(['apple', 'banana', 'cherry'])  # choice item from list\n",
    "random.choices(['a', 'b', 'c'], weights=[10, 1, 1], k=2)#weights define probability k define how many itwm in returns\n",
    "random.sample(range(0,100,5), 5)  # 5 unique random numbers\n"
   ]
  },
  {
   "cell_type": "code",
   "execution_count": 13,
   "id": "fcc6851f-5912-4995-aa47-3a71fac8bcaf",
   "metadata": {},
   "outputs": [
    {
     "name": "stdout",
     "output_type": "stream",
     "text": [
      "[2, 3, 1, 4]\n"
     ]
    }
   ],
   "source": [
    "items = [1, 2, 3, 4]\n",
    "random.shuffle(items)#permanent chahnge inplace=True\n",
    "print(items)"
   ]
  },
  {
   "cell_type": "code",
   "execution_count": 14,
   "id": "a97a2ce4-9a9e-48e6-a5bc-51d8bee7c491",
   "metadata": {},
   "outputs": [
    {
     "name": "stdout",
     "output_type": "stream",
     "text": [
      "Current Date and Time: 2025-06-23 15:35:52.732135\n"
     ]
    }
   ],
   "source": [
    "import datetime\n",
    "now = datetime.datetime.now()\n",
    "print(\"Current Date and Time:\", now)\n"
   ]
  },
  {
   "cell_type": "code",
   "execution_count": 15,
   "id": "c0eb6bc5-1a0c-4963-a5b6-e8bb52441fc5",
   "metadata": {},
   "outputs": [
    {
     "name": "stdout",
     "output_type": "stream",
     "text": [
      "Current Date: 2025-06-23\n",
      "Current Time: 15:36:24.837130\n"
     ]
    }
   ],
   "source": [
    "today = datetime.date.today()\n",
    "print(\"Current Date:\", today)\n",
    "\n",
    "current_time = datetime.datetime.now().time()\n",
    "print(\"Current Time:\", current_time)\n"
   ]
  },
  {
   "cell_type": "code",
   "execution_count": 18,
   "id": "368ebdff-6b39-4169-b238-779e32c1e512",
   "metadata": {},
   "outputs": [
    {
     "name": "stdout",
     "output_type": "stream",
     "text": [
      "Formatted Date: 23-06-2025 03:39:38:PM\n"
     ]
    }
   ],
   "source": [
    "now = datetime.datetime.now()\n",
    "formatted_date = now.strftime(\"%d-%m-%Y %I:%M:%S:%p\")\n",
    "print(\"Formatted Date:\", formatted_date)\n"
   ]
  },
  {
   "cell_type": "code",
   "execution_count": 26,
   "id": "d2852ff7-7cba-4b2d-80c1-43ca730318dc",
   "metadata": {},
   "outputs": [
    {
     "name": "stdout",
     "output_type": "stream",
     "text": [
      "Parsed Date: 2025-06-23\n"
     ]
    }
   ],
   "source": [
    "date_string = \"23-06-2025 14:30:00\"\n",
    "date_obj = datetime.datetime.strptime(date_string, \"%d-%m-%Y %H:%M:%S\")\n",
    "date_obj = datetime.datetime.strptime(date_string.split()[0], \"%d-%m-%Y\")\n",
    "print(\"Parsed Date:\", date_obj.date())\n"
   ]
  },
  {
   "cell_type": "code",
   "execution_count": 33,
   "id": "afcef33b-e466-4c90-95aa-1a01c8f94b05",
   "metadata": {},
   "outputs": [
    {
     "name": "stdout",
     "output_type": "stream",
     "text": [
      "Date after 7 days: 2025-06-23\n",
      "['__abs__', '__add__', '__bool__', '__class__', '__delattr__', '__dir__', '__divmod__', '__doc__', '__eq__', '__floordiv__', '__format__', '__ge__', '__getattribute__', '__getstate__', '__gt__', '__hash__', '__init__', '__init_subclass__', '__le__', '__lt__', '__mod__', '__mul__', '__ne__', '__neg__', '__new__', '__pos__', '__radd__', '__rdivmod__', '__reduce__', '__reduce_ex__', '__repr__', '__rfloordiv__', '__rmod__', '__rmul__', '__rsub__', '__rtruediv__', '__setattr__', '__sizeof__', '__str__', '__sub__', '__subclasshook__', '__truediv__', 'days', 'max', 'microseconds', 'min', 'resolution', 'seconds', 'total_seconds']\n"
     ]
    }
   ],
   "source": [
    "from datetime import timedelta\n",
    "\n",
    "today = datetime.date.today()\n",
    "next_week = today + timedelta(days=7)\n",
    "next_week = today + timedelta(weeks=7)\n",
    "next_week = today + timedelta(seconds=7)\n",
    "print(\"Date after 7 days:\", next_week)\n",
    "print(dir(timedelta()))"
   ]
  },
  {
   "cell_type": "code",
   "execution_count": 37,
   "id": "c4545895-e70a-4827-9b29-fc6f37911204",
   "metadata": {},
   "outputs": [
    {
     "name": "stdout",
     "output_type": "stream",
     "text": [
      "['__abs__', '__add__', '__bool__', '__class__', '__delattr__', '__dir__', '__divmod__', '__doc__', '__eq__', '__floordiv__', '__format__', '__ge__', '__getattribute__', '__getstate__', '__gt__', '__hash__', '__init__', '__init_subclass__', '__le__', '__lt__', '__mod__', '__mul__', '__ne__', '__neg__', '__new__', '__pos__', '__radd__', '__rdivmod__', '__reduce__', '__reduce_ex__', '__repr__', '__rfloordiv__', '__rmod__', '__rmul__', '__rsub__', '__rtruediv__', '__setattr__', '__sizeof__', '__str__', '__sub__', '__subclasshook__', '__truediv__', 'days', 'max', 'microseconds', 'min', 'resolution', 'seconds', 'total_seconds']\n",
      "Difference in Days: 8\n"
     ]
    }
   ],
   "source": [
    "d1 = datetime.date(2025, 6, 23)\n",
    "d2 = datetime.date(2025, 7, 1)\n",
    "diff = d2 - d1\n",
    "#print(dir(diff))\n",
    "print(\"Difference in Days:\", diff.days)"
   ]
  },
  {
   "cell_type": "code",
   "execution_count": 38,
   "id": "6e92b203-9f0f-4805-9052-63f85b3fe408",
   "metadata": {},
   "outputs": [
    {
     "name": "stdout",
     "output_type": "stream",
     "text": [
      "Day of the Week: Monday\n"
     ]
    }
   ],
   "source": [
    "today = datetime.date.today()\n",
    "print(\"Day of the Week:\", today.strftime(\"%A\"))  # Full weekday name\n"
   ]
  },
  {
   "cell_type": "code",
   "execution_count": 39,
   "id": "7ccb195a-950f-4e0d-ab4f-4a46a2b739b5",
   "metadata": {},
   "outputs": [
    {
     "name": "stdout",
     "output_type": "stream",
     "text": [
      "Current Timestamp: 1750675904.108182\n"
     ]
    }
   ],
   "source": [
    "timestamp = datetime.datetime.timestamp(datetime.datetime.now())\n",
    "print(\"Current Timestamp:\", timestamp)\n"
   ]
  },
  {
   "cell_type": "code",
   "execution_count": 41,
   "id": "e5ead3e9-3cd8-45f3-9199-98248e044e9a",
   "metadata": {},
   "outputs": [
    {
     "name": "stdout",
     "output_type": "stream",
     "text": [
      "                                  2025\n",
      "\n",
      "      January                   February                   March\n",
      "Mo Tu We Th Fr Sa Su      Mo Tu We Th Fr Sa Su      Mo Tu We Th Fr Sa Su\n",
      "       1  2  3  4  5                      1  2                      1  2\n",
      " 6  7  8  9 10 11 12       3  4  5  6  7  8  9       3  4  5  6  7  8  9\n",
      "13 14 15 16 17 18 19      10 11 12 13 14 15 16      10 11 12 13 14 15 16\n",
      "20 21 22 23 24 25 26      17 18 19 20 21 22 23      17 18 19 20 21 22 23\n",
      "27 28 29 30 31            24 25 26 27 28            24 25 26 27 28 29 30\n",
      "                                                    31\n",
      "\n",
      "       April                      May                       June\n",
      "Mo Tu We Th Fr Sa Su      Mo Tu We Th Fr Sa Su      Mo Tu We Th Fr Sa Su\n",
      "    1  2  3  4  5  6                1  2  3  4                         1\n",
      " 7  8  9 10 11 12 13       5  6  7  8  9 10 11       2  3  4  5  6  7  8\n",
      "14 15 16 17 18 19 20      12 13 14 15 16 17 18       9 10 11 12 13 14 15\n",
      "21 22 23 24 25 26 27      19 20 21 22 23 24 25      16 17 18 19 20 21 22\n",
      "28 29 30                  26 27 28 29 30 31         23 24 25 26 27 28 29\n",
      "                                                    30\n",
      "\n",
      "        July                     August                  September\n",
      "Mo Tu We Th Fr Sa Su      Mo Tu We Th Fr Sa Su      Mo Tu We Th Fr Sa Su\n",
      "    1  2  3  4  5  6                   1  2  3       1  2  3  4  5  6  7\n",
      " 7  8  9 10 11 12 13       4  5  6  7  8  9 10       8  9 10 11 12 13 14\n",
      "14 15 16 17 18 19 20      11 12 13 14 15 16 17      15 16 17 18 19 20 21\n",
      "21 22 23 24 25 26 27      18 19 20 21 22 23 24      22 23 24 25 26 27 28\n",
      "28 29 30 31               25 26 27 28 29 30 31      29 30\n",
      "\n",
      "      October                   November                  December\n",
      "Mo Tu We Th Fr Sa Su      Mo Tu We Th Fr Sa Su      Mo Tu We Th Fr Sa Su\n",
      "       1  2  3  4  5                      1  2       1  2  3  4  5  6  7\n",
      " 6  7  8  9 10 11 12       3  4  5  6  7  8  9       8  9 10 11 12 13 14\n",
      "13 14 15 16 17 18 19      10 11 12 13 14 15 16      15 16 17 18 19 20 21\n",
      "20 21 22 23 24 25 26      17 18 19 20 21 22 23      22 23 24 25 26 27 28\n",
      "27 28 29 30 31            24 25 26 27 28 29 30      29 30 31\n",
      "\n",
      "     June 2025\n",
      "Mo Tu We Th Fr Sa Su\n",
      "                   1\n",
      " 2  3  4  5  6  7  8\n",
      " 9 10 11 12 13 14 15\n",
      "16 17 18 19 20 21 22\n",
      "23 24 25 26 27 28 29\n",
      "30\n",
      "\n"
     ]
    }
   ],
   "source": [
    "import calendar\n",
    "print(calendar.calendar(2025))\n",
    "print(calendar.month(2025, 6))\n"
   ]
  },
  {
   "cell_type": "code",
   "execution_count": 48,
   "id": "dc2dedb3-4f70-4e88-9429-d83696366db9",
   "metadata": {},
   "outputs": [
    {
     "name": "stdout",
     "output_type": "stream",
     "text": [
      "First Weekday (0=Monday,6=sunday): 6\n",
      "Number of Days in the Month: 30\n"
     ]
    }
   ],
   "source": [
    "month_info = calendar.monthrange(2025, 6)\n",
    "print(\"First Weekday (0=Monday,6=sunday):\", month_info[0])\n",
    "print(\"Number of Days in the Month:\", month_info[1])"
   ]
  },
  {
   "cell_type": "code",
   "execution_count": 44,
   "id": "60e6a8b9-be07-4ff8-87b4-69688cec22a2",
   "metadata": {},
   "outputs": [
    {
     "name": "stdout",
     "output_type": "stream",
     "text": [
      "Leap Years: [2000, 2004, 2008, 2012, 2016, 2020, 2024, 2028, 2032, 2036, 2040, 2044, 2048]\n"
     ]
    }
   ],
   "source": [
    "leap_years = [year for year in range(2000, 2050) if calendar.isleap(year)]\n",
    "print(\"Leap Years:\", leap_years)\n"
   ]
  },
  {
   "cell_type": "code",
   "execution_count": 46,
   "id": "309c9829-c338-4741-ae38-9400a93a3d7c",
   "metadata": {},
   "outputs": [
    {
     "name": "stdout",
     "output_type": "stream",
     "text": [
      "Weekday (0=Monday): 1\n"
     ]
    }
   ],
   "source": [
    "weekday = calendar.weekday(2025, 6, 24)\n",
    "print(\"Weekday (0=Monday,1=Tuesday):\", weekday)\n"
   ]
  },
  {
   "cell_type": "code",
   "execution_count": 50,
   "id": "d45274d8-efc7-453f-85a0-fa47240be869",
   "metadata": {},
   "outputs": [
    {
     "name": "stdout",
     "output_type": "stream",
     "text": [
      "Month as Matrix (Weeks): [[0, 1, 2, 3, 4, 5, 6], [7, 8, 9, 10, 11, 12, 13], [14, 15, 16, 17, 18, 19, 20], [21, 22, 23, 24, 25, 26, 27], [28, 29, 30, 31, 0, 0, 0]]\n"
     ]
    }
   ],
   "source": [
    "month_matrix = calendar.monthcalendar(2025, 7)\n",
    "print(\"Month as Matrix (Weeks):\", month_matrix)\n"
   ]
  },
  {
   "cell_type": "code",
   "execution_count": null,
   "id": "41eefefb-d143-4238-ad27-e596681b3b1a",
   "metadata": {},
   "outputs": [],
   "source": []
  }
 ],
 "metadata": {
  "kernelspec": {
   "display_name": "Python 3 (ipykernel)",
   "language": "python",
   "name": "python3"
  },
  "language_info": {
   "codemirror_mode": {
    "name": "ipython",
    "version": 3
   },
   "file_extension": ".py",
   "mimetype": "text/x-python",
   "name": "python",
   "nbconvert_exporter": "python",
   "pygments_lexer": "ipython3",
   "version": "3.12.4"
  }
 },
 "nbformat": 4,
 "nbformat_minor": 5
}
