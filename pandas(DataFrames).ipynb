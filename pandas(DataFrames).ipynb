{
 "cells": [
  {
   "cell_type": "code",
   "execution_count": 2,
   "id": "09add0c4-731b-4b10-9140-cd2e6d889034",
   "metadata": {},
   "outputs": [],
   "source": [
    "import pandas as pd\n",
    "import numpy as np"
   ]
  },
  {
   "cell_type": "code",
   "execution_count": 3,
   "id": "5d3a6c6b-8b30-4ab3-a922-1752a9904459",
   "metadata": {},
   "outputs": [
    {
     "data": {
      "text/html": [
       "<div>\n",
       "<style scoped>\n",
       "    .dataframe tbody tr th:only-of-type {\n",
       "        vertical-align: middle;\n",
       "    }\n",
       "\n",
       "    .dataframe tbody tr th {\n",
       "        vertical-align: top;\n",
       "    }\n",
       "\n",
       "    .dataframe thead th {\n",
       "        text-align: right;\n",
       "    }\n",
       "</style>\n",
       "<table border=\"1\" class=\"dataframe\">\n",
       "  <thead>\n",
       "    <tr style=\"text-align: right;\">\n",
       "      <th></th>\n",
       "      <th>0</th>\n",
       "      <th>1</th>\n",
       "      <th>2</th>\n",
       "    </tr>\n",
       "  </thead>\n",
       "  <tbody>\n",
       "    <tr>\n",
       "      <th>0</th>\n",
       "      <td>100</td>\n",
       "      <td>90</td>\n",
       "      <td>80</td>\n",
       "    </tr>\n",
       "    <tr>\n",
       "      <th>1</th>\n",
       "      <td>70</td>\n",
       "      <td>60</td>\n",
       "      <td>90</td>\n",
       "    </tr>\n",
       "  </tbody>\n",
       "</table>\n",
       "</div>"
      ],
      "text/plain": [
       "     0   1   2\n",
       "0  100  90  80\n",
       "1   70  60  90"
      ]
     },
     "execution_count": 3,
     "metadata": {},
     "output_type": "execute_result"
    }
   ],
   "source": [
    "student=[[100,90,80],[70,60,90]]\n",
    "pd.DataFrame(student,columns=['iq','marks','package'])\n",
    "pd.DataFrame(student)"
   ]
  },
  {
   "cell_type": "code",
   "execution_count": 4,
   "id": "186c8004-d68a-400f-90a3-632a2e8431fb",
   "metadata": {},
   "outputs": [
    {
     "data": {
      "text/html": [
       "<div>\n",
       "<style scoped>\n",
       "    .dataframe tbody tr th:only-of-type {\n",
       "        vertical-align: middle;\n",
       "    }\n",
       "\n",
       "    .dataframe tbody tr th {\n",
       "        vertical-align: top;\n",
       "    }\n",
       "\n",
       "    .dataframe thead th {\n",
       "        text-align: right;\n",
       "    }\n",
       "</style>\n",
       "<table border=\"1\" class=\"dataframe\">\n",
       "  <thead>\n",
       "    <tr style=\"text-align: right;\">\n",
       "      <th></th>\n",
       "      <th>iq</th>\n",
       "      <th>marks</th>\n",
       "      <th>package</th>\n",
       "    </tr>\n",
       "  </thead>\n",
       "  <tbody>\n",
       "    <tr>\n",
       "      <th>0</th>\n",
       "      <td>100</td>\n",
       "      <td>60</td>\n",
       "      <td>40</td>\n",
       "    </tr>\n",
       "    <tr>\n",
       "      <th>1</th>\n",
       "      <td>70</td>\n",
       "      <td>50</td>\n",
       "      <td>90</td>\n",
       "    </tr>\n",
       "  </tbody>\n",
       "</table>\n",
       "</div>"
      ],
      "text/plain": [
       "    iq  marks  package\n",
       "0  100     60       40\n",
       "1   70     50       90"
      ]
     },
     "execution_count": 4,
     "metadata": {},
     "output_type": "execute_result"
    }
   ],
   "source": [
    "d1={'iq':[100,70],'marks':[60,50],'package':[40,90]}\n",
    "pd.DataFrame(d1)\n",
    "pd.DataFrame({'iq':[100,70],'marks':[60,50],'package':[40,90]})"
   ]
  },
  {
   "cell_type": "code",
   "execution_count": 63,
   "id": "d2893608-698a-4f90-bc06-62c70c497e92",
   "metadata": {},
   "outputs": [
    {
     "data": {
      "text/html": [
       "<div>\n",
       "<style scoped>\n",
       "    .dataframe tbody tr th:only-of-type {\n",
       "        vertical-align: middle;\n",
       "    }\n",
       "\n",
       "    .dataframe tbody tr th {\n",
       "        vertical-align: top;\n",
       "    }\n",
       "\n",
       "    .dataframe thead th {\n",
       "        text-align: right;\n",
       "    }\n",
       "</style>\n",
       "<table border=\"1\" class=\"dataframe\">\n",
       "  <thead>\n",
       "    <tr style=\"text-align: right;\">\n",
       "      <th></th>\n",
       "      <th>show_id</th>\n",
       "      <th>type</th>\n",
       "      <th>title</th>\n",
       "      <th>director</th>\n",
       "      <th>cast</th>\n",
       "      <th>country</th>\n",
       "      <th>date_added</th>\n",
       "      <th>release_year</th>\n",
       "      <th>rating</th>\n",
       "      <th>duration</th>\n",
       "      <th>listed_in</th>\n",
       "      <th>description</th>\n",
       "    </tr>\n",
       "  </thead>\n",
       "  <tbody>\n",
       "    <tr>\n",
       "      <th>5916</th>\n",
       "      <td>s5917</td>\n",
       "      <td>Movie</td>\n",
       "      <td>My Own Man</td>\n",
       "      <td>David Sampliner</td>\n",
       "      <td>David Sampliner</td>\n",
       "      <td>United States</td>\n",
       "      <td>March 6, 2015</td>\n",
       "      <td>2015</td>\n",
       "      <td>TV-MA</td>\n",
       "      <td>82 min</td>\n",
       "      <td>Documentaries</td>\n",
       "      <td>When a man discovers he will be the father to ...</td>\n",
       "    </tr>\n",
       "    <tr>\n",
       "      <th>8511</th>\n",
       "      <td>s8512</td>\n",
       "      <td>Movie</td>\n",
       "      <td>The Social Network</td>\n",
       "      <td>David Fincher</td>\n",
       "      <td>Jesse Eisenberg, Andrew Garfield, Justin Timbe...</td>\n",
       "      <td>United States</td>\n",
       "      <td>April 1, 2020</td>\n",
       "      <td>2010</td>\n",
       "      <td>PG-13</td>\n",
       "      <td>121 min</td>\n",
       "      <td>Dramas</td>\n",
       "      <td>Director David Fincher's biographical drama ch...</td>\n",
       "    </tr>\n",
       "    <tr>\n",
       "      <th>8729</th>\n",
       "      <td>s8730</td>\n",
       "      <td>Movie</td>\n",
       "      <td>Where the Money Is</td>\n",
       "      <td>Marek Kanievska</td>\n",
       "      <td>Paul Newman, Linda Fiorentino, Dermot Mulroney...</td>\n",
       "      <td>Germany, United States, United Kingdom, Canada</td>\n",
       "      <td>January 15, 2020</td>\n",
       "      <td>2000</td>\n",
       "      <td>PG-13</td>\n",
       "      <td>89 min</td>\n",
       "      <td>Action &amp; Adventure, Comedies, Dramas</td>\n",
       "      <td>Paul Newman proves he's still got prodigious a...</td>\n",
       "    </tr>\n",
       "  </tbody>\n",
       "</table>\n",
       "</div>"
      ],
      "text/plain": [
       "     show_id   type               title         director  \\\n",
       "5916   s5917  Movie          My Own Man  David Sampliner   \n",
       "8511   s8512  Movie  The Social Network    David Fincher   \n",
       "8729   s8730  Movie  Where the Money Is  Marek Kanievska   \n",
       "\n",
       "                                                   cast  \\\n",
       "5916                                    David Sampliner   \n",
       "8511  Jesse Eisenberg, Andrew Garfield, Justin Timbe...   \n",
       "8729  Paul Newman, Linda Fiorentino, Dermot Mulroney...   \n",
       "\n",
       "                                             country        date_added  \\\n",
       "5916                                   United States     March 6, 2015   \n",
       "8511                                   United States     April 1, 2020   \n",
       "8729  Germany, United States, United Kingdom, Canada  January 15, 2020   \n",
       "\n",
       "      release_year rating duration                             listed_in  \\\n",
       "5916          2015  TV-MA   82 min                         Documentaries   \n",
       "8511          2010  PG-13  121 min                                Dramas   \n",
       "8729          2000  PG-13   89 min  Action & Adventure, Comedies, Dramas   \n",
       "\n",
       "                                            description  \n",
       "5916  When a man discovers he will be the father to ...  \n",
       "8511  Director David Fincher's biographical drama ch...  \n",
       "8729  Paul Newman proves he's still got prodigious a...  "
      ]
     },
     "execution_count": 63,
     "metadata": {},
     "output_type": "execute_result"
    }
   ],
   "source": [
    "df=pd.read_csv(r\"D:\\Data_Science\\datasets\\netflix\\netflix_titles.csv\")\n",
    "df.shape\n",
    "df.sample(3)"
   ]
  },
  {
   "cell_type": "code",
   "execution_count": 6,
   "id": "78450935-38d6-4a1a-99b6-87bcea2754b8",
   "metadata": {},
   "outputs": [
    {
     "data": {
      "text/plain": [
       "pandas.core.frame.DataFrame"
      ]
     },
     "execution_count": 6,
     "metadata": {},
     "output_type": "execute_result"
    }
   ],
   "source": [
    "df.dtypes\n",
    "type(df)"
   ]
  },
  {
   "cell_type": "code",
   "execution_count": 7,
   "id": "2f2acebb-bd37-45b0-bea9-702963913a78",
   "metadata": {},
   "outputs": [
    {
     "data": {
      "text/plain": [
       "RangeIndex(start=0, stop=8807, step=1)"
      ]
     },
     "execution_count": 7,
     "metadata": {},
     "output_type": "execute_result"
    }
   ],
   "source": [
    "df.index"
   ]
  },
  {
   "cell_type": "code",
   "execution_count": 8,
   "id": "2cfd1e89-4262-465e-9758-f295d85f6321",
   "metadata": {},
   "outputs": [
    {
     "name": "stdout",
     "output_type": "stream",
     "text": [
      "<class 'pandas.core.frame.DataFrame'>\n",
      "RangeIndex: 8807 entries, 0 to 8806\n",
      "Data columns (total 12 columns):\n",
      " #   Column        Non-Null Count  Dtype \n",
      "---  ------        --------------  ----- \n",
      " 0   show_id       8807 non-null   object\n",
      " 1   type          8807 non-null   object\n",
      " 2   title         8807 non-null   object\n",
      " 3   director      6173 non-null   object\n",
      " 4   cast          7982 non-null   object\n",
      " 5   country       7976 non-null   object\n",
      " 6   date_added    8797 non-null   object\n",
      " 7   release_year  8807 non-null   int64 \n",
      " 8   rating        8803 non-null   object\n",
      " 9   duration      8804 non-null   object\n",
      " 10  listed_in     8807 non-null   object\n",
      " 11  description   8807 non-null   object\n",
      "dtypes: int64(1), object(11)\n",
      "memory usage: 825.8+ KB\n"
     ]
    }
   ],
   "source": [
    "df.info()"
   ]
  },
  {
   "cell_type": "code",
   "execution_count": 9,
   "id": "6fe0c1a0-b909-4154-9c63-5631c01070c0",
   "metadata": {},
   "outputs": [
    {
     "data": {
      "text/plain": [
       "Index(['show_id', 'type', 'title', 'director', 'cast', 'country', 'date_added',\n",
       "       'release_year', 'rating', 'duration', 'listed_in', 'description'],\n",
       "      dtype='object')"
      ]
     },
     "execution_count": 9,
     "metadata": {},
     "output_type": "execute_result"
    }
   ],
   "source": [
    "df.isnull().sum()\n",
    "df.columns\n",
    "#df.values"
   ]
  },
  {
   "cell_type": "code",
   "execution_count": 10,
   "id": "1760d0bb-88bd-44f3-b023-698e26215a19",
   "metadata": {},
   "outputs": [
    {
     "data": {
      "text/html": [
       "<div>\n",
       "<style scoped>\n",
       "    .dataframe tbody tr th:only-of-type {\n",
       "        vertical-align: middle;\n",
       "    }\n",
       "\n",
       "    .dataframe tbody tr th {\n",
       "        vertical-align: top;\n",
       "    }\n",
       "\n",
       "    .dataframe thead th {\n",
       "        text-align: right;\n",
       "    }\n",
       "</style>\n",
       "<table border=\"1\" class=\"dataframe\">\n",
       "  <thead>\n",
       "    <tr style=\"text-align: right;\">\n",
       "      <th></th>\n",
       "      <th>release_year</th>\n",
       "    </tr>\n",
       "  </thead>\n",
       "  <tbody>\n",
       "    <tr>\n",
       "      <th>count</th>\n",
       "      <td>8807.000000</td>\n",
       "    </tr>\n",
       "    <tr>\n",
       "      <th>mean</th>\n",
       "      <td>2014.180198</td>\n",
       "    </tr>\n",
       "    <tr>\n",
       "      <th>std</th>\n",
       "      <td>8.819312</td>\n",
       "    </tr>\n",
       "    <tr>\n",
       "      <th>min</th>\n",
       "      <td>1925.000000</td>\n",
       "    </tr>\n",
       "    <tr>\n",
       "      <th>25%</th>\n",
       "      <td>2013.000000</td>\n",
       "    </tr>\n",
       "    <tr>\n",
       "      <th>50%</th>\n",
       "      <td>2017.000000</td>\n",
       "    </tr>\n",
       "    <tr>\n",
       "      <th>75%</th>\n",
       "      <td>2019.000000</td>\n",
       "    </tr>\n",
       "    <tr>\n",
       "      <th>max</th>\n",
       "      <td>2021.000000</td>\n",
       "    </tr>\n",
       "  </tbody>\n",
       "</table>\n",
       "</div>"
      ],
      "text/plain": [
       "       release_year\n",
       "count   8807.000000\n",
       "mean    2014.180198\n",
       "std        8.819312\n",
       "min     1925.000000\n",
       "25%     2013.000000\n",
       "50%     2017.000000\n",
       "75%     2019.000000\n",
       "max     2021.000000"
      ]
     },
     "execution_count": 10,
     "metadata": {},
     "output_type": "execute_result"
    }
   ],
   "source": [
    "df.describe()"
   ]
  },
  {
   "cell_type": "code",
   "execution_count": 12,
   "id": "faa32490-d65b-4ed0-8f45-e75ee0305750",
   "metadata": {},
   "outputs": [
    {
     "data": {
      "text/plain": [
       "0"
      ]
     },
     "execution_count": 12,
     "metadata": {},
     "output_type": "execute_result"
    }
   ],
   "source": [
    "df.duplicated().sum()#total number of duuplicated rows"
   ]
  },
  {
   "cell_type": "code",
   "execution_count": 16,
   "id": "9fa06268-364b-40dd-94b4-10d2878f97e1",
   "metadata": {},
   "outputs": [
    {
     "data": {
      "text/html": [
       "<div>\n",
       "<style scoped>\n",
       "    .dataframe tbody tr th:only-of-type {\n",
       "        vertical-align: middle;\n",
       "    }\n",
       "\n",
       "    .dataframe tbody tr th {\n",
       "        vertical-align: top;\n",
       "    }\n",
       "\n",
       "    .dataframe thead th {\n",
       "        text-align: right;\n",
       "    }\n",
       "</style>\n",
       "<table border=\"1\" class=\"dataframe\">\n",
       "  <thead>\n",
       "    <tr style=\"text-align: right;\">\n",
       "      <th></th>\n",
       "      <th>id</th>\n",
       "      <th>type</th>\n",
       "      <th>title</th>\n",
       "      <th>director</th>\n",
       "      <th>cast</th>\n",
       "      <th>country</th>\n",
       "      <th>date_added</th>\n",
       "      <th>release_year</th>\n",
       "      <th>rating</th>\n",
       "      <th>duration</th>\n",
       "      <th>listed_in</th>\n",
       "      <th>description</th>\n",
       "    </tr>\n",
       "  </thead>\n",
       "  <tbody>\n",
       "    <tr>\n",
       "      <th>7195</th>\n",
       "      <td>s7196</td>\n",
       "      <td>Movie</td>\n",
       "      <td>Kidnapping Mr. Heineken</td>\n",
       "      <td>Daniel Alfredson</td>\n",
       "      <td>Jim Sturgess, Sam Worthington, Ryan Kwanten, A...</td>\n",
       "      <td>Netherlands, Belgium, United Kingdom, United S...</td>\n",
       "      <td>September 8, 2017</td>\n",
       "      <td>2015</td>\n",
       "      <td>R</td>\n",
       "      <td>95 min</td>\n",
       "      <td>Action &amp; Adventure, Dramas, International Movies</td>\n",
       "      <td>When beer magnate Alfred \"Freddy\" Heineken is ...</td>\n",
       "    </tr>\n",
       "    <tr>\n",
       "      <th>1893</th>\n",
       "      <td>s1894</td>\n",
       "      <td>TV Show</td>\n",
       "      <td>DreamWorks Happy Holidays from Madagascar</td>\n",
       "      <td>NaN</td>\n",
       "      <td>Tom McGrath, Chris Miller, Christopher Knights...</td>\n",
       "      <td>United States</td>\n",
       "      <td>October 2, 2020</td>\n",
       "      <td>2005</td>\n",
       "      <td>TV-PG</td>\n",
       "      <td>1 Season</td>\n",
       "      <td>Kids' TV, TV Comedies</td>\n",
       "      <td>Madagascar goes wild with holiday spirit in th...</td>\n",
       "    </tr>\n",
       "  </tbody>\n",
       "</table>\n",
       "</div>"
      ],
      "text/plain": [
       "         id     type                                      title  \\\n",
       "7195  s7196    Movie                    Kidnapping Mr. Heineken   \n",
       "1893  s1894  TV Show  DreamWorks Happy Holidays from Madagascar   \n",
       "\n",
       "              director                                               cast  \\\n",
       "7195  Daniel Alfredson  Jim Sturgess, Sam Worthington, Ryan Kwanten, A...   \n",
       "1893               NaN  Tom McGrath, Chris Miller, Christopher Knights...   \n",
       "\n",
       "                                                country         date_added  \\\n",
       "7195  Netherlands, Belgium, United Kingdom, United S...  September 8, 2017   \n",
       "1893                                      United States    October 2, 2020   \n",
       "\n",
       "      release_year rating  duration  \\\n",
       "7195          2015      R    95 min   \n",
       "1893          2005  TV-PG  1 Season   \n",
       "\n",
       "                                             listed_in  \\\n",
       "7195  Action & Adventure, Dramas, International Movies   \n",
       "1893                             Kids' TV, TV Comedies   \n",
       "\n",
       "                                            description  \n",
       "7195  When beer magnate Alfred \"Freddy\" Heineken is ...  \n",
       "1893  Madagascar goes wild with holiday spirit in th...  "
      ]
     },
     "execution_count": 16,
     "metadata": {},
     "output_type": "execute_result"
    }
   ],
   "source": [
    "df.rename(columns={'show_id':'id'}).sample(2)\n"
   ]
  },
  {
   "cell_type": "code",
   "execution_count": null,
   "id": "2b623ba9-c478-45f0-bcbe-52e86606d359",
   "metadata": {},
   "outputs": [],
   "source": [
    "#df.sum(axis=1) #coulmn wise sum else row wise\n",
    "#df.min() .max() .var .std()  .mode() .product()  \n",
    "print(df['director'].mode(),\"   \",df['director'].value_counts().max())\n",
    "df['director'].value_counts()"
   ]
  },
  {
   "cell_type": "code",
   "execution_count": 51,
   "id": "229b5974-e5df-45ef-9c16-4b8d23d06d9e",
   "metadata": {},
   "outputs": [
    {
     "data": {
      "text/html": [
       "<div>\n",
       "<style scoped>\n",
       "    .dataframe tbody tr th:only-of-type {\n",
       "        vertical-align: middle;\n",
       "    }\n",
       "\n",
       "    .dataframe tbody tr th {\n",
       "        vertical-align: top;\n",
       "    }\n",
       "\n",
       "    .dataframe thead th {\n",
       "        text-align: right;\n",
       "    }\n",
       "</style>\n",
       "<table border=\"1\" class=\"dataframe\">\n",
       "  <thead>\n",
       "    <tr style=\"text-align: right;\">\n",
       "      <th></th>\n",
       "      <th>type</th>\n",
       "      <th>title</th>\n",
       "      <th>director</th>\n",
       "      <th>cast</th>\n",
       "      <th>country</th>\n",
       "      <th>date_added</th>\n",
       "      <th>release_year</th>\n",
       "      <th>rating</th>\n",
       "      <th>duration</th>\n",
       "      <th>listed_in</th>\n",
       "      <th>description</th>\n",
       "    </tr>\n",
       "    <tr>\n",
       "      <th>show_id</th>\n",
       "      <th></th>\n",
       "      <th></th>\n",
       "      <th></th>\n",
       "      <th></th>\n",
       "      <th></th>\n",
       "      <th></th>\n",
       "      <th></th>\n",
       "      <th></th>\n",
       "      <th></th>\n",
       "      <th></th>\n",
       "      <th></th>\n",
       "    </tr>\n",
       "  </thead>\n",
       "  <tbody>\n",
       "    <tr>\n",
       "      <th>s2</th>\n",
       "      <td>TV Show</td>\n",
       "      <td>Blood &amp; Water</td>\n",
       "      <td>NaN</td>\n",
       "      <td>Ama Qamata, Khosi Ngema, Gail Mabalane, Thaban...</td>\n",
       "      <td>South Africa</td>\n",
       "      <td>September 24, 2021</td>\n",
       "      <td>2021</td>\n",
       "      <td>TV-MA</td>\n",
       "      <td>2 Seasons</td>\n",
       "      <td>International TV Shows, TV Dramas, TV Mysteries</td>\n",
       "      <td>After crossing paths at a party, a Cape Town t...</td>\n",
       "    </tr>\n",
       "    <tr>\n",
       "      <th>s3</th>\n",
       "      <td>TV Show</td>\n",
       "      <td>Ganglands</td>\n",
       "      <td>Julien Leclercq</td>\n",
       "      <td>Sami Bouajila, Tracy Gotoas, Samuel Jouy, Nabi...</td>\n",
       "      <td>NaN</td>\n",
       "      <td>September 24, 2021</td>\n",
       "      <td>2021</td>\n",
       "      <td>TV-MA</td>\n",
       "      <td>1 Season</td>\n",
       "      <td>Crime TV Shows, International TV Shows, TV Act...</td>\n",
       "      <td>To protect his family from a powerful drug lor...</td>\n",
       "    </tr>\n",
       "    <tr>\n",
       "      <th>s4</th>\n",
       "      <td>TV Show</td>\n",
       "      <td>Jailbirds New Orleans</td>\n",
       "      <td>NaN</td>\n",
       "      <td>NaN</td>\n",
       "      <td>NaN</td>\n",
       "      <td>September 24, 2021</td>\n",
       "      <td>2021</td>\n",
       "      <td>TV-MA</td>\n",
       "      <td>1 Season</td>\n",
       "      <td>Docuseries, Reality TV</td>\n",
       "      <td>Feuds, flirtations and toilet talk go down amo...</td>\n",
       "    </tr>\n",
       "  </tbody>\n",
       "</table>\n",
       "</div>"
      ],
      "text/plain": [
       "            type                  title         director  \\\n",
       "show_id                                                    \n",
       "s2       TV Show          Blood & Water              NaN   \n",
       "s3       TV Show              Ganglands  Julien Leclercq   \n",
       "s4       TV Show  Jailbirds New Orleans              NaN   \n",
       "\n",
       "                                                      cast       country  \\\n",
       "show_id                                                                    \n",
       "s2       Ama Qamata, Khosi Ngema, Gail Mabalane, Thaban...  South Africa   \n",
       "s3       Sami Bouajila, Tracy Gotoas, Samuel Jouy, Nabi...           NaN   \n",
       "s4                                                     NaN           NaN   \n",
       "\n",
       "                 date_added  release_year rating   duration  \\\n",
       "show_id                                                       \n",
       "s2       September 24, 2021          2021  TV-MA  2 Seasons   \n",
       "s3       September 24, 2021          2021  TV-MA   1 Season   \n",
       "s4       September 24, 2021          2021  TV-MA   1 Season   \n",
       "\n",
       "                                                 listed_in  \\\n",
       "show_id                                                      \n",
       "s2         International TV Shows, TV Dramas, TV Mysteries   \n",
       "s3       Crime TV Shows, International TV Shows, TV Act...   \n",
       "s4                                  Docuseries, Reality TV   \n",
       "\n",
       "                                               description  \n",
       "show_id                                                     \n",
       "s2       After crossing paths at a party, a Cape Town t...  \n",
       "s3       To protect his family from a powerful drug lor...  \n",
       "s4       Feuds, flirtations and toilet talk go down amo...  "
      ]
     },
     "execution_count": 51,
     "metadata": {},
     "output_type": "execute_result"
    }
   ],
   "source": [
    "df.iloc[[1,2,3],:]"
   ]
  },
  {
   "cell_type": "code",
   "execution_count": 48,
   "id": "5fced09d-997e-4017-be35-527dda38820a",
   "metadata": {},
   "outputs": [
    {
     "data": {
      "text/html": [
       "<div>\n",
       "<style scoped>\n",
       "    .dataframe tbody tr th:only-of-type {\n",
       "        vertical-align: middle;\n",
       "    }\n",
       "\n",
       "    .dataframe tbody tr th {\n",
       "        vertical-align: top;\n",
       "    }\n",
       "\n",
       "    .dataframe thead th {\n",
       "        text-align: right;\n",
       "    }\n",
       "</style>\n",
       "<table border=\"1\" class=\"dataframe\">\n",
       "  <thead>\n",
       "    <tr style=\"text-align: right;\">\n",
       "      <th></th>\n",
       "      <th>type</th>\n",
       "      <th>director</th>\n",
       "    </tr>\n",
       "    <tr>\n",
       "      <th>show_id</th>\n",
       "      <th></th>\n",
       "      <th></th>\n",
       "    </tr>\n",
       "  </thead>\n",
       "  <tbody>\n",
       "    <tr>\n",
       "      <th>s1</th>\n",
       "      <td>Movie</td>\n",
       "      <td>Kirsten Johnson</td>\n",
       "    </tr>\n",
       "    <tr>\n",
       "      <th>s2</th>\n",
       "      <td>TV Show</td>\n",
       "      <td>NaN</td>\n",
       "    </tr>\n",
       "    <tr>\n",
       "      <th>s3</th>\n",
       "      <td>TV Show</td>\n",
       "      <td>Julien Leclercq</td>\n",
       "    </tr>\n",
       "    <tr>\n",
       "      <th>s4</th>\n",
       "      <td>TV Show</td>\n",
       "      <td>NaN</td>\n",
       "    </tr>\n",
       "    <tr>\n",
       "      <th>s5</th>\n",
       "      <td>TV Show</td>\n",
       "      <td>NaN</td>\n",
       "    </tr>\n",
       "  </tbody>\n",
       "</table>\n",
       "</div>"
      ],
      "text/plain": [
       "            type         director\n",
       "show_id                          \n",
       "s1         Movie  Kirsten Johnson\n",
       "s2       TV Show              NaN\n",
       "s3       TV Show  Julien Leclercq\n",
       "s4       TV Show              NaN\n",
       "s5       TV Show              NaN"
      ]
     },
     "execution_count": 48,
     "metadata": {},
     "output_type": "execute_result"
    }
   ],
   "source": [
    "df.loc['s2']\n",
    "df.loc[:'s5','type':'director']\n",
    "df.loc[:'s5',['type','director']]"
   ]
  },
  {
   "cell_type": "code",
   "execution_count": 38,
   "id": "8cde1d73-5a99-48cf-a8c3-0e4c9836308e",
   "metadata": {},
   "outputs": [],
   "source": [
    "df=df.set_index(\"show_id\")"
   ]
  },
  {
   "cell_type": "code",
   "execution_count": 56,
   "id": "f6bc2b9f-acd2-464e-8be2-6c5f260b44b2",
   "metadata": {},
   "outputs": [
    {
     "data": {
      "text/html": [
       "<div>\n",
       "<style scoped>\n",
       "    .dataframe tbody tr th:only-of-type {\n",
       "        vertical-align: middle;\n",
       "    }\n",
       "\n",
       "    .dataframe tbody tr th {\n",
       "        vertical-align: top;\n",
       "    }\n",
       "\n",
       "    .dataframe thead th {\n",
       "        text-align: right;\n",
       "    }\n",
       "</style>\n",
       "<table border=\"1\" class=\"dataframe\">\n",
       "  <thead>\n",
       "    <tr style=\"text-align: right;\">\n",
       "      <th></th>\n",
       "      <th>type</th>\n",
       "      <th>title</th>\n",
       "      <th>director</th>\n",
       "      <th>cast</th>\n",
       "      <th>country</th>\n",
       "      <th>date_added</th>\n",
       "      <th>release_year</th>\n",
       "      <th>rating</th>\n",
       "      <th>duration</th>\n",
       "      <th>listed_in</th>\n",
       "      <th>description</th>\n",
       "    </tr>\n",
       "    <tr>\n",
       "      <th>show_id</th>\n",
       "      <th></th>\n",
       "      <th></th>\n",
       "      <th></th>\n",
       "      <th></th>\n",
       "      <th></th>\n",
       "      <th></th>\n",
       "      <th></th>\n",
       "      <th></th>\n",
       "      <th></th>\n",
       "      <th></th>\n",
       "      <th></th>\n",
       "    </tr>\n",
       "  </thead>\n",
       "  <tbody>\n",
       "    <tr>\n",
       "      <th>s3</th>\n",
       "      <td>TV Show</td>\n",
       "      <td>Ganglands</td>\n",
       "      <td>Julien Leclercq</td>\n",
       "      <td>Sami Bouajila, Tracy Gotoas, Samuel Jouy, Nabi...</td>\n",
       "      <td>NaN</td>\n",
       "      <td>September 24, 2021</td>\n",
       "      <td>2021</td>\n",
       "      <td>TV-MA</td>\n",
       "      <td>1 Season</td>\n",
       "      <td>Crime TV Shows, International TV Shows, TV Act...</td>\n",
       "      <td>To protect his family from a powerful drug lor...</td>\n",
       "    </tr>\n",
       "  </tbody>\n",
       "</table>\n",
       "</div>"
      ],
      "text/plain": [
       "            type      title         director  \\\n",
       "show_id                                        \n",
       "s3       TV Show  Ganglands  Julien Leclercq   \n",
       "\n",
       "                                                      cast country  \\\n",
       "show_id                                                              \n",
       "s3       Sami Bouajila, Tracy Gotoas, Samuel Jouy, Nabi...     NaN   \n",
       "\n",
       "                 date_added  release_year rating  duration  \\\n",
       "show_id                                                      \n",
       "s3       September 24, 2021          2021  TV-MA  1 Season   \n",
       "\n",
       "                                                 listed_in  \\\n",
       "show_id                                                      \n",
       "s3       Crime TV Shows, International TV Shows, TV Act...   \n",
       "\n",
       "                                               description  \n",
       "show_id                                                     \n",
       "s3       To protect his family from a powerful drug lor...  "
      ]
     },
     "execution_count": 56,
     "metadata": {},
     "output_type": "execute_result"
    }
   ],
   "source": [
    "df[df.director=='Kirsten Johnson']\n",
    "df[(df.type=='TV Show') & (df.director=='Julien Leclercq')]"
   ]
  },
  {
   "cell_type": "code",
   "execution_count": 57,
   "id": "addf3eb6-bdb8-4291-a4b7-6662d716c75d",
   "metadata": {},
   "outputs": [
    {
     "data": {
      "text/plain": [
       "director\n",
       "Alastair Fothergill                  3\n",
       "Rob Seidenglanz                      2\n",
       "Hsu Fu-chun                          2\n",
       "Iginio Straffi                       2\n",
       "Shin Won-ho                          2\n",
       "                                    ..\n",
       "Juliana Vicente                      1\n",
       "Chang Chin-jung, Chen Rong-hui       1\n",
       "Thierry Demaizière, Alban Teurlai    1\n",
       "Manolo Caro                          1\n",
       "Michael Cumming                      1\n",
       "Name: count, Length: 222, dtype: int64"
      ]
     },
     "execution_count": 57,
     "metadata": {},
     "output_type": "execute_result"
    }
   ],
   "source": [
    "df[(df.type=='TV Show')].director.value_counts()"
   ]
  },
  {
   "cell_type": "code",
   "execution_count": 64,
   "id": "08b0fd64-3cf1-439c-9814-2941926b90f5",
   "metadata": {},
   "outputs": [
    {
     "name": "stdout",
     "output_type": "stream",
     "text": [
      "<class 'pandas.core.frame.DataFrame'>\n",
      "RangeIndex: 8807 entries, 0 to 8806\n",
      "Data columns (total 12 columns):\n",
      " #   Column        Non-Null Count  Dtype   \n",
      "---  ------        --------------  -----   \n",
      " 0   show_id       8807 non-null   object  \n",
      " 1   type          8807 non-null   object  \n",
      " 2   title         8807 non-null   category\n",
      " 3   director      6173 non-null   object  \n",
      " 4   cast          7982 non-null   object  \n",
      " 5   country       7976 non-null   object  \n",
      " 6   date_added    8797 non-null   object  \n",
      " 7   release_year  8807 non-null   int64   \n",
      " 8   rating        8803 non-null   object  \n",
      " 9   duration      8804 non-null   object  \n",
      " 10  listed_in     8807 non-null   object  \n",
      " 11  description   8807 non-null   object  \n",
      "dtypes: category(1), int64(1), object(10)\n",
      "memory usage: 1.1+ MB\n"
     ]
    }
   ],
   "source": [
    "df.title=df.title.astype('category')\n",
    "df.info()"
   ]
  },
  {
   "cell_type": "code",
   "execution_count": 71,
   "id": "b182724b-813b-49bb-9c66-5a7dbee90a33",
   "metadata": {},
   "outputs": [],
   "source": [
    "df.sort_values(['director'],na_position='last')\n",
    "df['director_freq'] = df['director'].map(df['director'].value_counts())\n",
    "#df['director_freq'] = df['director'].map(lambda x:x.value_counts())this is incorrect as i want to perform operation which depend on whole series not just x value\n",
    "df.sort_values(by='director_freq', ascending=False, na_position='last',inplace=True)\n"
   ]
  },
  {
   "cell_type": "code",
   "execution_count": 74,
   "id": "c981f164-cc6d-4602-898a-06395ae374c7",
   "metadata": {},
   "outputs": [
    {
     "data": {
      "text/plain": [
       "array(['Rajiv Chilaka', 'Raúl Campos, Jan Suter', 'Suhas Kadav', ...,\n",
       "       'Franck Phelizon', 'Mozez Singh', nan], dtype=object)"
      ]
     },
     "execution_count": 74,
     "metadata": {},
     "output_type": "execute_result"
    }
   ],
   "source": [
    "df['director'].unique()"
   ]
  },
  {
   "cell_type": "code",
   "execution_count": 78,
   "id": "f8032f78-a898-4927-bccb-e206497c97c9",
   "metadata": {},
   "outputs": [
    {
     "data": {
      "text/plain": [
       "412     1646.0\n",
       "411     1646.0\n",
       "414     1646.0\n",
       "415     1646.0\n",
       "416     1646.0\n",
       "         ...  \n",
       "8795       NaN\n",
       "8796       NaN\n",
       "8797       NaN\n",
       "8800       NaN\n",
       "8803       NaN\n",
       "Name: director, Length: 8807, dtype: float64"
      ]
     },
     "execution_count": 78,
     "metadata": {},
     "output_type": "execute_result"
    }
   ],
   "source": [
    "df['director'].rank(ascending=False)"
   ]
  },
  {
   "cell_type": "code",
   "execution_count": 80,
   "id": "d8033082-4f46-48ca-897f-b0b0b03c3002",
   "metadata": {},
   "outputs": [
    {
     "data": {
      "text/html": [
       "<div>\n",
       "<style scoped>\n",
       "    .dataframe tbody tr th:only-of-type {\n",
       "        vertical-align: middle;\n",
       "    }\n",
       "\n",
       "    .dataframe tbody tr th {\n",
       "        vertical-align: top;\n",
       "    }\n",
       "\n",
       "    .dataframe thead th {\n",
       "        text-align: right;\n",
       "    }\n",
       "</style>\n",
       "<table border=\"1\" class=\"dataframe\">\n",
       "  <thead>\n",
       "    <tr style=\"text-align: right;\">\n",
       "      <th></th>\n",
       "      <th>index</th>\n",
       "      <th>show_id</th>\n",
       "      <th>type</th>\n",
       "      <th>title</th>\n",
       "      <th>director</th>\n",
       "      <th>cast</th>\n",
       "      <th>country</th>\n",
       "      <th>date_added</th>\n",
       "      <th>release_year</th>\n",
       "      <th>rating</th>\n",
       "      <th>duration</th>\n",
       "      <th>listed_in</th>\n",
       "      <th>description</th>\n",
       "      <th>director_freq</th>\n",
       "    </tr>\n",
       "  </thead>\n",
       "  <tbody>\n",
       "    <tr>\n",
       "      <th>8066</th>\n",
       "      <td>5413</td>\n",
       "      <td>s5414</td>\n",
       "      <td>TV Show</td>\n",
       "      <td>Gypsy</td>\n",
       "      <td>NaN</td>\n",
       "      <td>Naomi Watts, Billy Crudup, Sophie Cookson, Kar...</td>\n",
       "      <td>United States, United Kingdom</td>\n",
       "      <td>June 30, 2017</td>\n",
       "      <td>2017</td>\n",
       "      <td>TV-MA</td>\n",
       "      <td>1 Season</td>\n",
       "      <td>TV Dramas</td>\n",
       "      <td>Therapist Jean Holloway develops dangerous and...</td>\n",
       "      <td>NaN</td>\n",
       "    </tr>\n",
       "    <tr>\n",
       "      <th>4803</th>\n",
       "      <td>1126</td>\n",
       "      <td>s1127</td>\n",
       "      <td>Movie</td>\n",
       "      <td>My Fair Lady</td>\n",
       "      <td>George Cukor</td>\n",
       "      <td>Audrey Hepburn, Rex Harrison, Stanley Holloway...</td>\n",
       "      <td>United States</td>\n",
       "      <td>April 1, 2021</td>\n",
       "      <td>1964</td>\n",
       "      <td>G</td>\n",
       "      <td>173 min</td>\n",
       "      <td>Classic Movies, Music &amp; Musicals</td>\n",
       "      <td>When a Cockney flower girl takes elocution les...</td>\n",
       "      <td>1.0</td>\n",
       "    </tr>\n",
       "  </tbody>\n",
       "</table>\n",
       "</div>"
      ],
      "text/plain": [
       "      index show_id     type         title      director  \\\n",
       "8066   5413   s5414  TV Show         Gypsy           NaN   \n",
       "4803   1126   s1127    Movie  My Fair Lady  George Cukor   \n",
       "\n",
       "                                                   cast  \\\n",
       "8066  Naomi Watts, Billy Crudup, Sophie Cookson, Kar...   \n",
       "4803  Audrey Hepburn, Rex Harrison, Stanley Holloway...   \n",
       "\n",
       "                            country     date_added  release_year rating  \\\n",
       "8066  United States, United Kingdom  June 30, 2017          2017  TV-MA   \n",
       "4803                  United States  April 1, 2021          1964      G   \n",
       "\n",
       "      duration                         listed_in  \\\n",
       "8066  1 Season                         TV Dramas   \n",
       "4803   173 min  Classic Movies, Music & Musicals   \n",
       "\n",
       "                                            description  director_freq  \n",
       "8066  Therapist Jean Holloway develops dangerous and...            NaN  \n",
       "4803  When a Cockney flower girl takes elocution les...            1.0  "
      ]
     },
     "execution_count": 80,
     "metadata": {},
     "output_type": "execute_result"
    }
   ],
   "source": [
    "#df.sort_index()\n",
    "df.reset_index().sample(2)"
   ]
  },
  {
   "cell_type": "code",
   "execution_count": 81,
   "id": "de30ae56-7b7f-49f9-8bf1-cd1db1c08422",
   "metadata": {},
   "outputs": [
    {
     "data": {
      "text/plain": [
       "show_id          8807\n",
       "type                2\n",
       "title            8807\n",
       "director         4528\n",
       "cast             7692\n",
       "country           748\n",
       "date_added       1767\n",
       "release_year       74\n",
       "rating             17\n",
       "duration          220\n",
       "listed_in         514\n",
       "description      8775\n",
       "director_freq      17\n",
       "dtype: int64"
      ]
     },
     "execution_count": 81,
     "metadata": {},
     "output_type": "execute_result"
    }
   ],
   "source": [
    "df.nunique()"
   ]
  },
  {
   "cell_type": "code",
   "execution_count": 84,
   "id": "4121d35c-69b8-4fdc-aae8-7a798f274996",
   "metadata": {},
   "outputs": [
    {
     "data": {
      "text/plain": [
       "show_id             0\n",
       "type                0\n",
       "title               0\n",
       "director         2634\n",
       "cast              825\n",
       "country           831\n",
       "date_added         10\n",
       "release_year        0\n",
       "rating              4\n",
       "duration            3\n",
       "listed_in           0\n",
       "description         0\n",
       "director_freq    2634\n",
       "dtype: int64"
      ]
     },
     "execution_count": 84,
     "metadata": {},
     "output_type": "execute_result"
    }
   ],
   "source": [
    "df.notnull().sum()\n",
    "df.isnull().sum()"
   ]
  },
  {
   "cell_type": "code",
   "execution_count": 86,
   "id": "c5203bc1-acfc-4632-a94d-05856f10f3c3",
   "metadata": {},
   "outputs": [
    {
     "name": "stdout",
     "output_type": "stream",
     "text": [
      "(8807, 13)    (5332, 13)\n"
     ]
    }
   ],
   "source": [
    "print(df.dropna(how='all').shape,\"  \",df.dropna().shape)"
   ]
  },
  {
   "cell_type": "code",
   "execution_count": 89,
   "id": "9c70931d-c32b-49a9-8f94-21b361ca8ecd",
   "metadata": {},
   "outputs": [
    {
     "name": "stdout",
     "output_type": "stream",
     "text": [
      "(8807, 13)\n"
     ]
    }
   ],
   "source": [
    "print(df.dropna(how='all',subset=['director','cast','country','date_added','rating','duration']).shape)"
   ]
  },
  {
   "cell_type": "code",
   "execution_count": null,
   "id": "d1004a53-8cde-4066-968a-db8968cdc0e1",
   "metadata": {},
   "outputs": [],
   "source": [
    "#df.fillna(\"unknown\") whereever null value is it fill it with unkown\n",
    "df.fillna(method=\"ffill\")\n",
    "df.fillna(method=\"bfill\")\n",
    "#df.drop_duplicates(keep='first',subset=['director','cast']).sample(1)#already and logic"
   ]
  },
  {
   "cell_type": "code",
   "execution_count": 102,
   "id": "3598ae1a-7650-420e-8f39-512312ea55ce",
   "metadata": {},
   "outputs": [
    {
     "data": {
      "text/html": [
       "<div>\n",
       "<style scoped>\n",
       "    .dataframe tbody tr th:only-of-type {\n",
       "        vertical-align: middle;\n",
       "    }\n",
       "\n",
       "    .dataframe tbody tr th {\n",
       "        vertical-align: top;\n",
       "    }\n",
       "\n",
       "    .dataframe thead th {\n",
       "        text-align: right;\n",
       "    }\n",
       "</style>\n",
       "<table border=\"1\" class=\"dataframe\">\n",
       "  <thead>\n",
       "    <tr style=\"text-align: right;\">\n",
       "      <th></th>\n",
       "      <th>show_id</th>\n",
       "      <th>type</th>\n",
       "      <th>title</th>\n",
       "      <th>director</th>\n",
       "      <th>cast</th>\n",
       "      <th>country</th>\n",
       "      <th>date_added</th>\n",
       "      <th>release_year</th>\n",
       "      <th>rating</th>\n",
       "      <th>duration</th>\n",
       "      <th>listed_in</th>\n",
       "      <th>description</th>\n",
       "      <th>director_freq</th>\n",
       "    </tr>\n",
       "  </thead>\n",
       "  <tbody>\n",
       "    <tr>\n",
       "      <th>4071</th>\n",
       "      <td>s4072</td>\n",
       "      <td>Movie</td>\n",
       "      <td>Can't Help Falling in Love</td>\n",
       "      <td>Mae Czarina Cruz</td>\n",
       "      <td>Kathryn Bernardo, Daniel Padilla, Matteo Guidi...</td>\n",
       "      <td>Philippines</td>\n",
       "      <td>February 27, 2019</td>\n",
       "      <td>2017</td>\n",
       "      <td>TV-14</td>\n",
       "      <td>120 min</td>\n",
       "      <td>Comedies, Dramas, International Movies</td>\n",
       "      <td>Gab is eager to tie the knot with her handsome...</td>\n",
       "      <td>7.0</td>\n",
       "    </tr>\n",
       "  </tbody>\n",
       "</table>\n",
       "</div>"
      ],
      "text/plain": [
       "     show_id   type                       title          director  \\\n",
       "4071   s4072  Movie  Can't Help Falling in Love  Mae Czarina Cruz   \n",
       "\n",
       "                                                   cast      country  \\\n",
       "4071  Kathryn Bernardo, Daniel Padilla, Matteo Guidi...  Philippines   \n",
       "\n",
       "             date_added  release_year rating duration  \\\n",
       "4071  February 27, 2019          2017  TV-14  120 min   \n",
       "\n",
       "                                   listed_in  \\\n",
       "4071  Comedies, Dramas, International Movies   \n",
       "\n",
       "                                            description  director_freq  \n",
       "4071  Gab is eager to tie the knot with her handsome...            7.0  "
      ]
     },
     "execution_count": 102,
     "metadata": {},
     "output_type": "execute_result"
    }
   ],
   "source": [
    "df.ffill()  # forward fill\n",
    "df.bfill().sample(1)  # backward fill"
   ]
  },
  {
   "cell_type": "code",
   "execution_count": null,
   "id": "789dee52-5ad0-4b25-a269-4225f4dcc447",
   "metadata": {},
   "outputs": [],
   "source": [
    "df.drop(index=[1,2])\n",
    "df.drop(columns=['type'])"
   ]
  },
  {
   "cell_type": "code",
   "execution_count": 107,
   "id": "651378b4-fef2-4de0-bf2a-daf5c4b59ef2",
   "metadata": {},
   "outputs": [
    {
     "data": {
      "text/html": [
       "<div>\n",
       "<style scoped>\n",
       "    .dataframe tbody tr th:only-of-type {\n",
       "        vertical-align: middle;\n",
       "    }\n",
       "\n",
       "    .dataframe tbody tr th {\n",
       "        vertical-align: top;\n",
       "    }\n",
       "\n",
       "    .dataframe thead th {\n",
       "        text-align: right;\n",
       "    }\n",
       "</style>\n",
       "<table border=\"1\" class=\"dataframe\">\n",
       "  <thead>\n",
       "    <tr style=\"text-align: right;\">\n",
       "      <th></th>\n",
       "      <th>show_id</th>\n",
       "      <th>type</th>\n",
       "      <th>title</th>\n",
       "      <th>director</th>\n",
       "      <th>cast</th>\n",
       "      <th>country</th>\n",
       "      <th>date_added</th>\n",
       "      <th>release_year</th>\n",
       "      <th>rating</th>\n",
       "      <th>duration</th>\n",
       "      <th>listed_in</th>\n",
       "      <th>description</th>\n",
       "      <th>director_freq</th>\n",
       "    </tr>\n",
       "  </thead>\n",
       "  <tbody>\n",
       "  </tbody>\n",
       "</table>\n",
       "</div>"
      ],
      "text/plain": [
       "Empty DataFrame\n",
       "Columns: [show_id, type, title, director, cast, country, date_added, release_year, rating, duration, listed_in, description, director_freq]\n",
       "Index: []"
      ]
     },
     "execution_count": 107,
     "metadata": {},
     "output_type": "execute_result"
    }
   ],
   "source": [
    "df[df['type'].isin(['Drama', 'Comedy'])]"
   ]
  },
  {
   "cell_type": "code",
   "execution_count": 113,
   "id": "1f041ac5-c74c-4031-9e1b-79292df875a9",
   "metadata": {},
   "outputs": [
    {
     "data": {
      "text/html": [
       "<div>\n",
       "<style scoped>\n",
       "    .dataframe tbody tr th:only-of-type {\n",
       "        vertical-align: middle;\n",
       "    }\n",
       "\n",
       "    .dataframe tbody tr th {\n",
       "        vertical-align: top;\n",
       "    }\n",
       "\n",
       "    .dataframe thead th {\n",
       "        text-align: right;\n",
       "    }\n",
       "</style>\n",
       "<table border=\"1\" class=\"dataframe\">\n",
       "  <thead>\n",
       "    <tr style=\"text-align: right;\">\n",
       "      <th></th>\n",
       "      <th>A</th>\n",
       "      <th>B</th>\n",
       "    </tr>\n",
       "  </thead>\n",
       "  <tbody>\n",
       "    <tr>\n",
       "      <th>0</th>\n",
       "      <td>2</td>\n",
       "      <td>20</td>\n",
       "    </tr>\n",
       "    <tr>\n",
       "      <th>1</th>\n",
       "      <td>4</td>\n",
       "      <td>40</td>\n",
       "    </tr>\n",
       "    <tr>\n",
       "      <th>2</th>\n",
       "      <td>6</td>\n",
       "      <td>60</td>\n",
       "    </tr>\n",
       "  </tbody>\n",
       "</table>\n",
       "</div>"
      ],
      "text/plain": [
       "   A   B\n",
       "0  2  20\n",
       "1  4  40\n",
       "2  6  60"
      ]
     },
     "execution_count": 113,
     "metadata": {},
     "output_type": "execute_result"
    }
   ],
   "source": [
    "df1 = pd.DataFrame({'A': [1, 2, 3], 'B': [10, 20, 30]})\n",
    "\n",
    "# Multiply each value by 2\n",
    "df1.apply(lambda x: x*2,axis=1)#cover coomplete row first axis=1 or axis =0 cover one series first then another one by one \n"
   ]
  },
  {
   "cell_type": "code",
   "execution_count": null,
   "id": "3e6af31b-fe51-4970-a3a0-6f9c4a0d2826",
   "metadata": {},
   "outputs": [],
   "source": [
    "#df.corr()\n",
    "#df[['math', 'physics']].corr()\n",
    "#df.corr()['math'].drop('math')\n"
   ]
  },
  {
   "cell_type": "code",
   "execution_count": 117,
   "id": "bb8f898c-53b4-4784-b8a1-fdca96b68b8c",
   "metadata": {},
   "outputs": [
    {
     "data": {
      "text/html": [
       "<div>\n",
       "<style scoped>\n",
       "    .dataframe tbody tr th:only-of-type {\n",
       "        vertical-align: middle;\n",
       "    }\n",
       "\n",
       "    .dataframe tbody tr th {\n",
       "        vertical-align: top;\n",
       "    }\n",
       "\n",
       "    .dataframe thead th {\n",
       "        text-align: right;\n",
       "    }\n",
       "</style>\n",
       "<table border=\"1\" class=\"dataframe\">\n",
       "  <thead>\n",
       "    <tr style=\"text-align: right;\">\n",
       "      <th></th>\n",
       "      <th>show_id</th>\n",
       "      <th>type</th>\n",
       "      <th>title</th>\n",
       "      <th>director</th>\n",
       "      <th>cast</th>\n",
       "      <th>country</th>\n",
       "      <th>date_added</th>\n",
       "      <th>release_year</th>\n",
       "      <th>rating</th>\n",
       "      <th>duration</th>\n",
       "      <th>listed_in</th>\n",
       "      <th>description</th>\n",
       "      <th>director_freq</th>\n",
       "    </tr>\n",
       "  </thead>\n",
       "  <tbody>\n",
       "    <tr>\n",
       "      <th>665</th>\n",
       "      <td>s666</td>\n",
       "      <td>TV Show</td>\n",
       "      <td>Deadwind</td>\n",
       "      <td>NaN</td>\n",
       "      <td>Pihla Viitala, Lauri Tilkanen, Jani Volanen, T...</td>\n",
       "      <td>Finland, Germany</td>\n",
       "      <td>June 19, 2021</td>\n",
       "      <td>2020</td>\n",
       "      <td>TV-MA</td>\n",
       "      <td>2 Seasons</td>\n",
       "      <td>Crime TV Shows, International TV Shows, TV Dramas</td>\n",
       "      <td>Just months after a tragic loss, detective Sof...</td>\n",
       "      <td>NaN</td>\n",
       "    </tr>\n",
       "  </tbody>\n",
       "</table>\n",
       "</div>"
      ],
      "text/plain": [
       "    show_id     type     title director  \\\n",
       "665    s666  TV Show  Deadwind      NaN   \n",
       "\n",
       "                                                  cast           country  \\\n",
       "665  Pihla Viitala, Lauri Tilkanen, Jani Volanen, T...  Finland, Germany   \n",
       "\n",
       "        date_added  release_year rating   duration  \\\n",
       "665  June 19, 2021          2020  TV-MA  2 Seasons   \n",
       "\n",
       "                                             listed_in  \\\n",
       "665  Crime TV Shows, International TV Shows, TV Dramas   \n",
       "\n",
       "                                           description  director_freq  \n",
       "665  Just months after a tragic loss, detective Sof...            NaN  "
      ]
     },
     "execution_count": 117,
     "metadata": {},
     "output_type": "execute_result"
    }
   ],
   "source": [
    "df_copy = df.copy()\n",
    "df_copy.sample(1)"
   ]
  },
  {
   "cell_type": "code",
   "execution_count": 118,
   "id": "e8e7def7-d066-42cb-a7f5-5159af353eaa",
   "metadata": {},
   "outputs": [
    {
     "data": {
      "text/html": [
       "<div>\n",
       "<style scoped>\n",
       "    .dataframe tbody tr th:only-of-type {\n",
       "        vertical-align: middle;\n",
       "    }\n",
       "\n",
       "    .dataframe tbody tr th {\n",
       "        vertical-align: top;\n",
       "    }\n",
       "\n",
       "    .dataframe thead th {\n",
       "        text-align: right;\n",
       "    }\n",
       "</style>\n",
       "<table border=\"1\" class=\"dataframe\">\n",
       "  <thead>\n",
       "    <tr style=\"text-align: right;\">\n",
       "      <th></th>\n",
       "      <th>show_id</th>\n",
       "      <th>type</th>\n",
       "      <th>title</th>\n",
       "      <th>director</th>\n",
       "      <th>cast</th>\n",
       "      <th>country</th>\n",
       "      <th>date_added</th>\n",
       "      <th>release_year</th>\n",
       "      <th>rating</th>\n",
       "      <th>duration</th>\n",
       "      <th>listed_in</th>\n",
       "      <th>description</th>\n",
       "      <th>director_freq</th>\n",
       "    </tr>\n",
       "  </thead>\n",
       "  <tbody>\n",
       "    <tr>\n",
       "      <th>4250</th>\n",
       "      <td>s4251</td>\n",
       "      <td>TV Show</td>\n",
       "      <td>Pioneers: First Women Filmmakers*</td>\n",
       "      <td>NaN</td>\n",
       "      <td>NaN</td>\n",
       "      <td>NaN</td>\n",
       "      <td>December 30, 2018</td>\n",
       "      <td>1925</td>\n",
       "      <td>TV-14</td>\n",
       "      <td>1 Season</td>\n",
       "      <td>TV Shows</td>\n",
       "      <td>This collection restores films from women who ...</td>\n",
       "      <td>NaN</td>\n",
       "    </tr>\n",
       "  </tbody>\n",
       "</table>\n",
       "</div>"
      ],
      "text/plain": [
       "     show_id     type                              title director cast  \\\n",
       "4250   s4251  TV Show  Pioneers: First Women Filmmakers*      NaN  NaN   \n",
       "\n",
       "     country         date_added  release_year rating  duration listed_in  \\\n",
       "4250     NaN  December 30, 2018          1925  TV-14  1 Season  TV Shows   \n",
       "\n",
       "                                            description  director_freq  \n",
       "4250  This collection restores films from women who ...            NaN  "
      ]
     },
     "execution_count": 118,
     "metadata": {},
     "output_type": "execute_result"
    }
   ],
   "source": [
    "df.nlargest(2, 'release_year')   # Top 2 scores\n",
    "df.nsmallest(1, 'release_year')  # Lowest score"
   ]
  },
  {
   "cell_type": "code",
   "execution_count": null,
   "id": "77af5cf3-c633-4456-bee8-3a1fddc3f29d",
   "metadata": {},
   "outputs": [],
   "source": []
  }
 ],
 "metadata": {
  "kernelspec": {
   "display_name": "Python 3 (ipykernel)",
   "language": "python",
   "name": "python3"
  },
  "language_info": {
   "codemirror_mode": {
    "name": "ipython",
    "version": 3
   },
   "file_extension": ".py",
   "mimetype": "text/x-python",
   "name": "python",
   "nbconvert_exporter": "python",
   "pygments_lexer": "ipython3",
   "version": "3.12.4"
  }
 },
 "nbformat": 4,
 "nbformat_minor": 5
}
