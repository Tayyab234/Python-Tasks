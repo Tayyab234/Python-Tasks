{
 "cells": [
  {
   "cell_type": "code",
   "execution_count": null,
   "id": "6bd36a5c-276c-4e23-83ab-1624ea3a9977",
   "metadata": {},
   "outputs": [],
   "source": [
    "# genral term Exception\n",
    "# ValueError\n",
    "# TypeError\n",
    "# KeyError\n",
    "# TimeoutError\n",
    "# IndexError\n",
    "# FileNotFoundError\n",
    "# ZeroDivisionError"
   ]
  },
  {
   "cell_type": "code",
   "execution_count": 1,
   "id": "16513fd3-4f40-43ae-9adc-ee6cc821b139",
   "metadata": {},
   "outputs": [
    {
     "name": "stdout",
     "output_type": "stream",
     "text": [
      "True\n",
      "False\n"
     ]
    }
   ],
   "source": [
    "class Car:\n",
    "    def __init__(self):\n",
    "        self.color = 'red'\n",
    "\n",
    "car = Car()\n",
    "print(hasattr(car, 'color'))  # True\n",
    "print(hasattr(car, 'speed'))  # False\n"
   ]
  },
  {
   "cell_type": "code",
   "execution_count": 2,
   "id": "f18e6569-0787-4347-8523-af31e95dfdd5",
   "metadata": {},
   "outputs": [
    {
     "name": "stdout",
     "output_type": "stream",
     "text": [
      "red\n",
      "unknown\n"
     ]
    }
   ],
   "source": [
    "print(getattr(car, 'color', 'unknown'))  # red   also fetch functions\n",
    "print(getattr(car, 'speed', 'unknown'))  # unknown\n"
   ]
  },
  {
   "cell_type": "code",
   "execution_count": 11,
   "id": "f2d775c8-ef58-4bf5-8903-71416a933443",
   "metadata": {},
   "outputs": [
    {
     "name": "stdout",
     "output_type": "stream",
     "text": [
      "100\n"
     ]
    }
   ],
   "source": [
    "setattr(car, 'speed', 100) #only set attribute of car instance not others\n",
    "print(car.speed)  # 100"
   ]
  },
  {
   "cell_type": "code",
   "execution_count": null,
   "id": "497ce10b-68c0-4bc7-9322-6b2bad061819",
   "metadata": {},
   "outputs": [],
   "source": [
    "class Car:\n",
    "    pass\n",
    "\n",
    "def drive():\n",
    "    print(\"The car is driving.\")\n",
    "\n",
    "car = Car()\n",
    "\n",
    "# Attach function to object\n",
    "setattr(car, 'drive', drive)  #also set functions as well\n",
    "\n",
    "# Now 'drive' is an attribute of car\n",
    "print(car.drive)        # <function drive at ...>\n",
    "print(callable(car.drive))  # True\n",
    "\n",
    "# Call the function\n",
    "car.drive()  # Output: The car is driving.\n"
   ]
  },
  {
   "cell_type": "code",
   "execution_count": 12,
   "id": "5133b531-b4d6-465d-b28e-a01b14d05138",
   "metadata": {},
   "outputs": [
    {
     "name": "stdout",
     "output_type": "stream",
     "text": [
      "True\n",
      "False\n"
     ]
    }
   ],
   "source": [
    "class Car:\n",
    "    pass\n",
    "\n",
    "car1 = Car()\n",
    "car2 = Car()\n",
    "\n",
    "# Set attribute 'color' only on car1\n",
    "setattr(car1, 'color', 'red')\n",
    "\n",
    "print(hasattr(car1, 'color'))  # True\n",
    "print(hasattr(car2, 'color'))  # False\n"
   ]
  },
  {
   "cell_type": "code",
   "execution_count": 4,
   "id": "1cd358b8-deb0-4e52-bce7-61315f2690a5",
   "metadata": {},
   "outputs": [
    {
     "name": "stdout",
     "output_type": "stream",
     "text": [
      "False\n"
     ]
    }
   ],
   "source": [
    "delattr(car, 'color')\n",
    "print(hasattr(car, 'color'))  # False\n"
   ]
  },
  {
   "cell_type": "code",
   "execution_count": 5,
   "id": "81821874-e9a8-4e0d-b637-955d153a3c37",
   "metadata": {},
   "outputs": [
    {
     "name": "stdout",
     "output_type": "stream",
     "text": [
      "True\n",
      "True\n"
     ]
    }
   ],
   "source": [
    "print(isinstance(10, int))           # True\n",
    "print(isinstance(\"hello\", (int, str)))  # True\n"
   ]
  },
  {
   "cell_type": "code",
   "execution_count": 6,
   "id": "3590d5ae-de75-4180-a01f-335215eae89a",
   "metadata": {},
   "outputs": [
    {
     "name": "stdout",
     "output_type": "stream",
     "text": [
      "True\n"
     ]
    }
   ],
   "source": [
    "class Vehicle: pass\n",
    "class Car(Vehicle): pass\n",
    "\n",
    "print(issubclass(Car, Vehicle))  # True\n"
   ]
  },
  {
   "cell_type": "code",
   "execution_count": 7,
   "id": "071347f4-092e-4fc9-bfc8-aea5448a49c0",
   "metadata": {},
   "outputs": [
    {
     "name": "stdout",
     "output_type": "stream",
     "text": [
      "True\n",
      "False\n"
     ]
    }
   ],
   "source": [
    "def greet(): pass\n",
    "x = 5\n",
    "\n",
    "print(callable(greet))  # True  \n",
    "print(callable(x))      # False\n"
   ]
  },
  {
   "cell_type": "code",
   "execution_count": 8,
   "id": "2db70908-aab3-4d7b-851d-4b56799b8a21",
   "metadata": {},
   "outputs": [
    {
     "name": "stdout",
     "output_type": "stream",
     "text": [
      "<class 'int'>\n",
      "<class 'str'>\n"
     ]
    }
   ],
   "source": [
    "print(type(10))        # <class 'int'>\n",
    "print(type('hello'))   # <class 'str'>\n"
   ]
  },
  {
   "cell_type": "code",
   "execution_count": 9,
   "id": "4bd35113-ce4d-414e-9e22-6205791cb2b3",
   "metadata": {},
   "outputs": [
    {
     "name": "stdout",
     "output_type": "stream",
     "text": [
      "{'speed': 100}\n"
     ]
    }
   ],
   "source": [
    "print(vars(car))#pass object\n"
   ]
  },
  {
   "cell_type": "code",
   "execution_count": 10,
   "id": "ee0a06c8-357b-453a-b1f4-b0550b74045d",
   "metadata": {},
   "outputs": [
    {
     "name": "stdout",
     "output_type": "stream",
     "text": [
      "<__main__.Car object at 0x00000216F645E840>\n"
     ]
    }
   ],
   "source": [
    "x = 10\n",
    "print(eval('x + 5'))  # 15  make string as python code \n"
   ]
  },
  {
   "cell_type": "code",
   "execution_count": null,
   "id": "d99dfe0b-2171-4da3-92ae-53095dae5768",
   "metadata": {},
   "outputs": [],
   "source": []
  }
 ],
 "metadata": {
  "kernelspec": {
   "display_name": "Python 3 (ipykernel)",
   "language": "python",
   "name": "python3"
  },
  "language_info": {
   "codemirror_mode": {
    "name": "ipython",
    "version": 3
   },
   "file_extension": ".py",
   "mimetype": "text/x-python",
   "name": "python",
   "nbconvert_exporter": "python",
   "pygments_lexer": "ipython3",
   "version": "3.12.4"
  }
 },
 "nbformat": 4,
 "nbformat_minor": 5
}
